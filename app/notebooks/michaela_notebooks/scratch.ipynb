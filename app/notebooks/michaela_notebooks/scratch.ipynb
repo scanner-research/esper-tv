{
 "cells": [
  {
   "cell_type": "code",
   "execution_count": 4,
   "metadata": {
    "ExecuteTime": {
     "end_time": "2019-06-27T20:29:03.643667Z",
     "start_time": "2019-06-27T20:29:03.620653Z"
    }
   },
   "outputs": [
    {
     "name": "stdout",
     "output_type": "stream",
     "text": [
      "/app/data/black_face_ids.csv\n",
      "/app/data/hayes.png\n",
      "/app/data/aws-face-crops.tar.gz\n",
      "/app/data/dan_neurips\n",
      "/app/data/lemon.png\n",
      "/app/data/stories\n",
      "/app/data/blond_fox.png\n",
      "/app/data/video_10y.csv\n",
      "/app/data/google_images\n",
      "/app/data/azure-face-crops\n",
      "/app/data/race_pred\n",
      "/app/data/black.dan.250.random.json\n",
      "/app/data/embs\n",
      "/app/data/cnn_fox_msnbc.png\n",
      "/app/data/stories-data\n",
      "/app/data/video_ia_ids.json\n",
      "/app/data/baldwin.png\n",
      "/app/data/index10a\n",
      "/app/data/face_eval\n",
      "/app/data/widget-data\n",
      "/app/data/pg\n",
      "/app/data/gender_10y.csv\n",
      "/app/data/black.250.random.json\n",
      "/app/data/maddow.png\n",
      "/app/data/blond_cnn.png\n",
      "/app/data/face_identity_model_v2\n",
      "/app/data/index10\n",
      "/app/data/spark\n",
      "/app/data/interview_10y-all.pkl\n",
      "/app/data/.ipynb_checkpoints\n",
      "/app/data/black.1k.random.json\n",
      "/app/data/identity_10y.csv\n",
      "/app/data/aws-face-crops\n"
     ]
    }
   ],
   "source": [
    "import os\n",
    "\n",
    "# The data directory in the container\n",
    "for x in os.listdir('/app/data'):\n",
    "    print('/app/data/' + x)"
   ]
  },
  {
   "cell_type": "code",
   "execution_count": null,
   "metadata": {},
   "outputs": [],
   "source": []
  }
 ],
 "metadata": {
  "kernelspec": {
   "display_name": "Django Shell-Plus",
   "language": "python",
   "name": "django_extensions"
  },
  "language_info": {
   "codemirror_mode": {
    "name": "ipython",
    "version": 3
   },
   "file_extension": ".py",
   "mimetype": "text/x-python",
   "name": "python",
   "nbconvert_exporter": "python",
   "pygments_lexer": "ipython3",
   "version": "3.5.2"
  },
  "toc": {
   "nav_menu": {},
   "number_sections": true,
   "sideBar": true,
   "skip_h1_title": false,
   "toc_cell": false,
   "toc_position": {},
   "toc_section_display": "block",
   "toc_window_display": false
  }
 },
 "nbformat": 4,
 "nbformat_minor": 2
}
