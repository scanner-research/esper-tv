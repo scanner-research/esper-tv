{
 "cells": [
  {
   "cell_type": "markdown",
   "metadata": {
    "toc": true
   },
   "source": [
    "<h1>Table of Contents<span class=\"tocSkip\"></span></h1>\n",
    "<div class=\"toc\" style=\"margin-top: 1em;\"><ul class=\"toc-item\"><li><span><a href=\"#Setup\" data-toc-modified-id=\"Setup-1\"><span class=\"toc-item-num\">1&nbsp;&nbsp;</span>Setup</a></span></li><li><span><a href=\"#Choosing-a-Person\" data-toc-modified-id=\"Choosing-a-Person-2\"><span class=\"toc-item-num\">2&nbsp;&nbsp;</span>Choosing a Person</a></span></li><li><span><a href=\"#Searching-the-Candidate-Faces\" data-toc-modified-id=\"Searching-the-Candidate-Faces-3\"><span class=\"toc-item-num\">3&nbsp;&nbsp;</span>Searching the Candidate Faces</a></span><ul class=\"toc-item\"><li><span><a href=\"#Labeling-Random-Samples\" data-toc-modified-id=\"Labeling-Random-Samples-3.1\"><span class=\"toc-item-num\">3.1&nbsp;&nbsp;</span>Labeling Random Samples</a></span></li><li><span><a href=\"#Selecting-Most-Likely-Faces\" data-toc-modified-id=\"Selecting-Most-Likely-Faces-3.2\"><span class=\"toc-item-num\">3.2&nbsp;&nbsp;</span>Selecting Most Likely Faces</a></span></li><li><span><a href=\"#Discarding-a-Fraction-of-the-Candidates\" data-toc-modified-id=\"Discarding-a-Fraction-of-the-Candidates-3.3\"><span class=\"toc-item-num\">3.3&nbsp;&nbsp;</span>Discarding a Fraction of the Candidates</a></span></li></ul></li><li><span><a href=\"#Inspecting-the-Results\" data-toc-modified-id=\"Inspecting-the-Results-4\"><span class=\"toc-item-num\">4&nbsp;&nbsp;</span>Inspecting the Results</a></span></li><li><span><a href=\"#Save-Labels\" data-toc-modified-id=\"Save-Labels-5\"><span class=\"toc-item-num\">5&nbsp;&nbsp;</span>Save Labels</a></span></li><li><span><a href=\"#Reset-the-Notebook\" data-toc-modified-id=\"Reset-the-Notebook-6\"><span class=\"toc-item-num\">6&nbsp;&nbsp;</span>Reset the Notebook</a></span></li></ul></div>"
   ]
  },
  {
   "cell_type": "markdown",
   "metadata": {},
   "source": [
    "# Setup\n",
    "\n",
    "Before we begin, we need to load some dependencies and define some utility functions. \n",
    "\n",
    "<b>Run all initialization cells before proceeding.</b>"
   ]
  },
  {
   "cell_type": "code",
   "execution_count": 10,
   "metadata": {
    "ExecuteTime": {
     "end_time": "2019-10-01T05:43:24.881570Z",
     "start_time": "2019-10-01T05:43:23.638707Z"
    },
    "hide_input": true,
    "init_cell": true
   },
   "outputs": [
    {
     "name": "stdout",
     "output_type": "stream",
     "text": [
      "Loading libraries... Please wait.\n"
     ]
    },
    {
     "data": {
      "application/vnd.jupyter.widget-view+json": {
       "model_id": "b8d8828dbd1d40afa70912b0f2af9892",
       "version_major": 2,
       "version_minor": 0
      },
      "text/plain": [
       "IntSlider(value=50, continuous_update=False, description='Faces per widget page:', min=25, style=SliderStyle(d…"
      ]
     },
     "metadata": {},
     "output_type": "display_data"
    },
    {
     "data": {
      "application/vnd.jupyter.widget-view+json": {
       "model_id": "193e22430fab4455814a9fb3586bbf8c",
       "version_major": 2,
       "version_minor": 0
      },
      "text/plain": [
       "IntSlider(value=100000, continuous_update=False, description='Max candidates:', max=200000, min=10000, step=10…"
      ]
     },
     "metadata": {},
     "output_type": "display_data"
    },
    {
     "name": "stdout",
     "output_type": "stream",
     "text": [
      "Done!\n"
     ]
    }
   ],
   "source": [
    "%matplotlib inline\n",
    "\n",
    "print('Loading libraries... Please wait.')\n",
    "\n",
    "from IPython.display import display, clear_output\n",
    "from IPython.core.pylabtools import figsize\n",
    "figsize(12, 5)\n",
    "import ipywidgets as widgets\n",
    "import itertools\n",
    "import io\n",
    "import os\n",
    "import sys\n",
    "import pickle\n",
    "import PIL.Image\n",
    "import time\n",
    "import traceback\n",
    "import random\n",
    "import math\n",
    "import numpy as np\n",
    "np.warnings.filterwarnings('ignore')\n",
    "import matplotlib.pyplot as plt\n",
    "import urllib.request as request\n",
    "from datetime import date\n",
    "from collections import namedtuple, Counter\n",
    "from subprocess import check_call\n",
    "\n",
    "from esper.prelude import *\n",
    "from esper.widget import *\n",
    "from esper.plot_util import tile_images\n",
    "from esper.major_canonical_shows import MAJOR_CANONICAL_SHOWS\n",
    "from esper import embed_google_images\n",
    "\n",
    "import esper.face_embeddings as face_embeddings\n",
    "\n",
    "LABELER_NAME_PREFIX = 'face-identity-uncommon:'\n",
    "\n",
    "WIDGET_STYLE_ARGS = {'description_width': 'initial'}\n",
    "\n",
    "ReferenceFaces = namedtuple(\n",
    "    'ReferenceFaces', ['name', 'ids', 'embs', 'imgs'])\n",
    "\n",
    "def show_reference_imgs(refs):\n",
    "    tiled_imgs = tile_images(\n",
    "        [cv2.resize(x, (100, 100)) for x in refs.imgs], \n",
    "        cols=10, blank_value=255)\n",
    "    print('Your reference images for {}.'.format(refs.name))\n",
    "    plt.figure()\n",
    "    imshow(tiled_imgs)\n",
    "    plt.tight_layout()\n",
    "    plt.show()\n",
    "\n",
    "def flatten(l):\n",
    "    return [item for sublist in l for item in sublist]\n",
    "\n",
    "def split_list(l, idx):\n",
    "    return l[:idx], l[idx:]\n",
    "\n",
    "def query_faces(ids):\n",
    "    faces = Face.objects.filter(id__in=ids)\n",
    "    return faces.values(\n",
    "        'id', 'bbox_y1', 'bbox_y2', 'bbox_x1', 'bbox_x2',\n",
    "        'frame__number', 'frame__video__id', 'frame__video__fps',\n",
    "        'shot__min_frame', 'shot__max_frame')\n",
    "\n",
    "def query_sample(qs, n):\n",
    "    return qs.order_by('?')[:n]\n",
    "\n",
    "def query_faces_result(faces, expand_bbox=0.05):\n",
    "    \"\"\"Replaces qs_to_result\"\"\"\n",
    "    result = []\n",
    "    for face in faces:\n",
    "        if (face.get('shot__min_frame') is not None and \n",
    "                face.get('shot__max_frame') is not None):\n",
    "            min_frame = int(\n",
    "                (face['shot__min_frame'] + \n",
    "                 face['shot__max_frame']) / 2)\n",
    "        else:\n",
    "            min_frame = face['frame__number']\n",
    "        face_result = {\n",
    "            'type': 'flat', 'label': '', \n",
    "            'elements': [{\n",
    "                'objects': [{\n",
    "                    'id': face['id'],\n",
    "                    'background': False,\n",
    "                    'type': 'bbox',\n",
    "                    'bbox_y1': max(face['bbox_y1'] - expand_bbox, 0),\n",
    "                    'bbox_y2': min(face['bbox_y2'] + expand_bbox, 1),\n",
    "                    'bbox_x1': max(face['bbox_x1'] - expand_bbox, 0),\n",
    "                    'bbox_x2': min(face['bbox_x2'] + expand_bbox, 1),\n",
    "                }], \n",
    "                'min_frame': min_frame,\n",
    "                'video': face['frame__video__id']\n",
    "            }]\n",
    "        }\n",
    "        result.append(face_result)\n",
    "    return {'type': 'Face', 'count': 0, 'result': result}\n",
    "\n",
    "def load_face_img(face):\n",
    "    return crop(load_frame(face.frame.video, face.frame.number, []), face)\n",
    "\n",
    "def sort_ids_by_distance(ids, embs):\n",
    "    dists = face_embeddings.dist(ids, targets=embs)\n",
    "    return [i for _, i in sorted(zip(dists, ids))]\n",
    "\n",
    "def continue_yn_prompt(msg):\n",
    "    l = input('{} Continue? (y/N): '.format(msg))\n",
    "    if l.strip().lower() != 'y':\n",
    "        raise ValueError('User entered No. This is not an error.') \n",
    "\n",
    "def load_and_select_faces_from_images(name, img_dir):\n",
    "    \n",
    "    def crop_img(img, bbox):\n",
    "        height, width, _ = img.shape\n",
    "        y1 = int(bbox.y1 * height)\n",
    "        y2 = int(bbox.y2 * height)\n",
    "        x1 = int(bbox.x1 * width)\n",
    "        x2 = int(bbox.x2 * width)\n",
    "        return img[y1:y2, x1:x2, :]\n",
    "    \n",
    "    face_bboxes = embed_google_images.detect_faces(img_dir)\n",
    "    \n",
    "    cand_imgs = []\n",
    "    for img_path, bbox in face_bboxes:\n",
    "        img = cv2.imread(img_path)\n",
    "        img_crop = crop_img(img, bbox)\n",
    "        assert img_crop.size > 0, \\\n",
    "            'Bad crop dimensions: {} from {}'.format(\n",
    "            img_crop.shape, bbox)\n",
    "        img_crop = cv2.resize(img_crop, (100, 100))\n",
    "        cand_imgs.append(img_crop)\n",
    "    \n",
    "    def img_to_widget(img):\n",
    "        height, width, _ = img.shape\n",
    "        f = io.BytesIO()\n",
    "        PIL.Image.fromarray(img).save(f, 'png')\n",
    "        return widgets.Image(value=f.getvalue(), height=height,\n",
    "                             width=width)\n",
    "    \n",
    "    def get_img_checkbox():\n",
    "        img_checkbox = widgets.ToggleButton(\n",
    "            layout=widgets.Layout(width='auto'),\n",
    "            value=False,\n",
    "            description='',\n",
    "            disabled=False,\n",
    "            button_style='',\n",
    "            icon=''\n",
    "        )\n",
    "        def on_toggle(b):\n",
    "            if img_checkbox.value:\n",
    "                img_checkbox.button_style = 'danger'\n",
    "                img_checkbox.icon = 'check'\n",
    "            else:\n",
    "                img_checkbox.button_style = ''\n",
    "                img_checkbox.icon = ''\n",
    "        img_checkbox.observe(on_toggle, names='value')\n",
    "        return img_checkbox\n",
    "    \n",
    "    print('Select reference images below: (default=selected)')\n",
    "    checkboxes = []\n",
    "    vboxes = []\n",
    "    for img_crop in cand_imgs:\n",
    "        img_widget = img_to_widget(\n",
    "            cv2.cvtColor(img_crop, cv2.COLOR_BGR2RGB))\n",
    "        img_checkbox = get_img_checkbox()\n",
    "        checkboxes.append(img_checkbox)\n",
    "        vboxes.append(widgets.VBox([img_widget, img_checkbox]))\n",
    "    \n",
    "    images_per_row = 8\n",
    "    for i in range(0, len(vboxes), images_per_row):\n",
    "        display(widgets.HBox(vboxes[i:i + images_per_row]))\n",
    "        \n",
    "    submit_button = widgets.Button(\n",
    "        layout=widgets.Layout(width='auto'),\n",
    "        style=WIDGET_STYLE_ARGS,\n",
    "        description='Confirm selections',\n",
    "        disabled=False,\n",
    "        button_style='danger'\n",
    "    )\n",
    "    def on_submit(b):\n",
    "        imgs = [\n",
    "            x for i, x in enumerate(cand_imgs) \n",
    "            if checkboxes[i].value]\n",
    "        clear_output()\n",
    "        print('Selected {} faces. Ignored {}.'.format(\n",
    "              len(imgs), len(cand_imgs) - len(imgs)))\n",
    "        embs = embed_google_images.embed_images(imgs)\n",
    "        assert len(imgs) == len(embs)\n",
    "        global FACE_REFERENCES\n",
    "        FACE_REFERENCES = ReferenceFaces(\n",
    "            name=name, ids=set(), embs=embs, imgs=imgs)\n",
    "        show_reference_imgs(FACE_REFERENCES)\n",
    "    submit_button.on_click(on_submit)\n",
    "    \n",
    "    cancel_button = widgets.Button(\n",
    "        layout=widgets.Layout(width='auto'),\n",
    "        style=WIDGET_STYLE_ARGS,\n",
    "        description='Abort selection',\n",
    "        disabled=False,\n",
    "        button_style='warning'\n",
    "    )\n",
    "    def on_cancel(b):\n",
    "        clear_output()\n",
    "        print('Canceled selection. No references images were added.')\n",
    "    cancel_button.on_click(on_cancel)\n",
    "    \n",
    "    display(widgets.HBox([widgets.Label('Controls:'), \n",
    "            submit_button, cancel_button]))\n",
    "    return cand_imgs\n",
    "\n",
    "def get_google_images(name, n=10, **kwargs):\n",
    "    img_dir = embed_google_images.fetch_images(name, n=n, force='query_extras' in kwargs, \n",
    "                                               **kwargs)\n",
    "    load_and_select_faces_from_images(name, img_dir)\n",
    "\n",
    "LabelingState = namedtuple('LabelingState', ['references', 'faces', 'candidate_ids', 'selected_ids'])\n",
    "\n",
    "def get_new_labeling_state(face_references, max_threshold=1.):\n",
    "    start_time = time.time()\n",
    "    results = face_embeddings.knn(\n",
    "        targets=FACE_REFERENCES.embs, \n",
    "        k=max_faces(), \n",
    "        max_threshold=max_threshold\n",
    "    )\n",
    "    knn_time = time.time()\n",
    "    print('Comuputed k-NN: {:0.4f}s'.format(knn_time - start_time))\n",
    "    candidate_face_ids = [i for i, _ in results]\n",
    "    candidate_faces = list(query_faces(candidate_face_ids))\n",
    "    print('Database query: {:0.4f}s'.format(time.time() - start_time))\n",
    "    print('Retreived {} candidate faces'.format(len(candidate_faces)))\n",
    "    return LabelingState(\n",
    "        references=face_references,\n",
    "        faces={f['id']: f for f in candidate_faces},\n",
    "        candidate_ids={f['id'] for f in candidate_faces},\n",
    "        selected_ids=set())\n",
    "\n",
    "def print_status(state):\n",
    "    print('\\nThere are now {} labeled \"{}\"s and {} unlabeled faces remaining.'.format(\n",
    "        len(state.selected_ids), state.references.name, \n",
    "        len(state.candidate_ids)))\n",
    "\n",
    "def save_labels(state):\n",
    "    name = state.references.name\n",
    "    print('Attempting to save {} labels for \"{}\" to the database.'.format(\n",
    "        len(state.selected_ids), name))\n",
    "    labeler_name = '{}{}'.format(LABELER_NAME_PREFIX, name.lower())\n",
    "    labeler, created = Labeler.objects.get_or_create(name=labeler_name)\n",
    "    print('Created labeler:' if created else 'Found existing labeler:', labeler.name)\n",
    "    identity, created = Identity.objects.get_or_create(name=name.lower())\n",
    "    print('Created identity:' if created else 'Found existing identity:', identity.name)\n",
    "\n",
    "    previously_labeled_ids = {\n",
    "        f['face__id'] for f in \n",
    "        FaceIdentity.objects.filter(labeler=labeler).values('face__id')\n",
    "    }\n",
    "    if len(previously_labeled_ids) > 0:\n",
    "        print('Note: there are already {} labels for \"{}\" in the database'.format(\n",
    "            len(previously_labeled_ids), name))\n",
    "\n",
    "    face_idents = []\n",
    "    for i in state.selected_ids:\n",
    "        if i in previously_labeled_ids:\n",
    "            continue\n",
    "        face_idents.append(FaceIdentity(\n",
    "            face_id=i, identity=identity, labeler=labeler, probability=1))\n",
    "    FaceIdentity.objects.bulk_create(face_idents)\n",
    "    print('Saved {} new labels.'.format(len(face_idents)))\n",
    "    \n",
    "def reset_notebook():\n",
    "    global FACE_REFERENCES, STATE\n",
    "    try: del FACE_REFERENECES\n",
    "    except NameError: pass\n",
    "    try: del STATE\n",
    "    except NameError: pass\n",
    "    print('Reset notebook. Specify a new person to restart labeling.')\n",
    "    \n",
    "DEFAULT_FACES_PER_PAGE = 50\n",
    "_faces_per_page_slider = widgets.IntSlider(\n",
    "    value=DEFAULT_FACES_PER_PAGE,\n",
    "    style=WIDGET_STYLE_ARGS,\n",
    "    min=25,\n",
    "    max=100,\n",
    "    step=1,\n",
    "    description='Faces per widget page:',\n",
    "    disabled=False,\n",
    "    continuous_update=False,\n",
    "    orientation='horizontal',\n",
    "    readout=True,\n",
    "    readout_format='d'\n",
    ")\n",
    "def faces_per_page():\n",
    "    try:\n",
    "        return _faces_per_page_slider.value\n",
    "    except:\n",
    "        return DEFAULT_FACES_PER_PAGE\n",
    "\n",
    "DEFAULT_MAX_FACES = 100000\n",
    "_max_faces_slider = widgets.IntSlider(\n",
    "    value=DEFAULT_MAX_FACES,\n",
    "    style=WIDGET_STYLE_ARGS,\n",
    "    min=10000,\n",
    "    max=200000,\n",
    "    step=1000,\n",
    "    description='Max candidates:',\n",
    "    disabled=False,\n",
    "    continuous_update=False,\n",
    "    orientation='horizontal',\n",
    "    readout=True,\n",
    "    readout_format='d'\n",
    ")\n",
    "def max_faces():\n",
    "    try:\n",
    "        return _max_faces_slider.value\n",
    "    except:\n",
    "        return DEFAULT_MAX_FACES\n",
    "\n",
    "display(_faces_per_page_slider)\n",
    "display(_max_faces_slider)\n",
    "\n",
    "print('Done!')"
   ]
  },
  {
   "cell_type": "markdown",
   "metadata": {},
   "source": [
    "# Choosing a Person\n",
    "\n",
    "First, we will find images of a person using Google Image Search. These images are necessary to communicate to the model the appearance of the person. Enter a name below and any extra terms needed to find the person on Google."
   ]
  },
  {
   "cell_type": "code",
   "execution_count": 11,
   "metadata": {
    "ExecuteTime": {
     "end_time": "2019-10-01T05:43:25.016857Z",
     "start_time": "2019-10-01T05:43:24.885660Z"
    },
    "hide_input": true,
    "init_cell": true
   },
   "outputs": [
    {
     "data": {
      "application/vnd.jupyter.widget-view+json": {
       "model_id": "5ab3307fa1f94f4e810c448cdac7a1f7",
       "version_major": 2,
       "version_minor": 0
      },
      "text/plain": [
       "Text(value='', description='Name:', placeholder='e.g., Jon Snow', style=DescriptionStyle(description_width='in…"
      ]
     },
     "metadata": {},
     "output_type": "display_data"
    },
    {
     "data": {
      "application/vnd.jupyter.widget-view+json": {
       "model_id": "f05aa830e0e74f2cac7704a1f097a01c",
       "version_major": 2,
       "version_minor": 0
      },
      "text/plain": [
       "Text(value='', description='Extra terms (optional):', placeholder='e.g., CNN anchor', style=DescriptionStyle(d…"
      ]
     },
     "metadata": {},
     "output_type": "display_data"
    },
    {
     "data": {
      "application/vnd.jupyter.widget-view+json": {
       "model_id": "8d5a4588af694e6da68411f390830b92",
       "version_major": 2,
       "version_minor": 0
      },
      "text/plain": [
       "Button(button_style='danger', description='Search', style=ButtonStyle())"
      ]
     },
     "metadata": {},
     "output_type": "display_data"
    },
    {
     "data": {
      "application/vnd.jupyter.widget-view+json": {
       "model_id": "d90e2a4751fa4ed4be9977dff9bb7348",
       "version_major": 2,
       "version_minor": 0
      },
      "text/plain": [
       "Output()"
      ]
     },
     "metadata": {},
     "output_type": "display_data"
    }
   ],
   "source": [
    "name_text = widgets.Text(\n",
    "    value='',\n",
    "    placeholder='e.g., Jon Snow',\n",
    "    style=WIDGET_STYLE_ARGS,\n",
    "    description='Name:',\n",
    "    disabled=False\n",
    ")\n",
    "search_terms_text = widgets.Text(\n",
    "    value='',\n",
    "    placeholder='e.g., CNN anchor',\n",
    "    style=WIDGET_STYLE_ARGS,\n",
    "    description='Extra terms (optional):',\n",
    "    disabled=False\n",
    ")\n",
    "submit_button = widgets.Button(\n",
    "    description='Search',\n",
    "    disabled=False,\n",
    "    button_style='danger'\n",
    ")\n",
    "google_search_output = widgets.Output()\n",
    "def on_submit(b):\n",
    "    name = name_text.value.strip()\n",
    "    if len(name) == 0:\n",
    "        print('Name cannot be empty. Try again.', file=sys.stderr)\n",
    "        return\n",
    "    search_terms = search_terms_text.value.strip()\n",
    "    with google_search_output:\n",
    "        clear_output()\n",
    "        print('Seaching for \"{}\"'.format(name))\n",
    "        if search_terms != '':\n",
    "            print('Extra terms:', search_terms)\n",
    "        get_google_images(name, query_extras=search_terms)\n",
    "submit_button.on_click(on_submit)\n",
    "display(name_text)\n",
    "display(search_terms_text)\n",
    "display(submit_button)\n",
    "display(google_search_output)"
   ]
  },
  {
   "cell_type": "markdown",
   "metadata": {},
   "source": [
    "Once you are satisfied with the reference images, run the cell below to retrieve a conservative set of candidate faces and initialize the labeling state."
   ]
  },
  {
   "cell_type": "code",
   "execution_count": 9,
   "metadata": {
    "ExecuteTime": {
     "end_time": "2019-08-28T18:51:38.548865Z",
     "start_time": "2019-08-28T18:44:00.626182Z"
    },
    "hide_input": false
   },
   "outputs": [
    {
     "name": "stdout",
     "output_type": "stream",
     "text": [
      "Comuputed k-NN: 288.1644s\n",
      "Database query: 457.8183s\n",
      "Retreived 100000 candidate faces\n"
     ]
    }
   ],
   "source": [
    "STATE = get_new_labeling_state(FACE_REFERENCES)"
   ]
  },
  {
   "cell_type": "markdown",
   "metadata": {},
   "source": [
    "# Searching the Candidate Faces\n",
    "\n",
    "Given that we now have a set of candidate faces that may be the person we are after, we will now pickout selections and filter down the candidate set until we are satisfied that we have found most of the instances of the target person in the dataset.\n",
    "\n",
    "To refine the selections, there are three operations currently supported. These can be done in any order by running the code below.\n",
    "- Labeling randomly sample candidates\n",
    "- Labeling the most likely candidates\n",
    "- Discarding the least likely candidates"
   ]
  },
  {
   "cell_type": "code",
   "execution_count": 12,
   "metadata": {
    "ExecuteTime": {
     "end_time": "2019-10-01T05:43:25.628703Z",
     "start_time": "2019-10-01T05:43:25.020139Z"
    },
    "hide_input": true,
    "init_cell": true
   },
   "outputs": [
    {
     "name": "stdout",
     "output_type": "stream",
     "text": [
      "Initializing libraries. Please wait...\n",
      "Done!\n"
     ]
    }
   ],
   "source": [
    "print('Initializing libraries. Please wait...')\n",
    "\n",
    "def get_random_samples(state, k=None):\n",
    "    if k is None:\n",
    "        k = faces_per_page()\n",
    "    \n",
    "    start_time = time.time()\n",
    "    samples = random.sample(state.candidate_ids, k)\n",
    "    \n",
    "    submit_button = widgets.Button(\n",
    "        layout=widgets.Layout(width='auto'),\n",
    "        style=WIDGET_STYLE_ARGS,\n",
    "        description='Confirm selections',\n",
    "        disabled=False,\n",
    "        button_style='danger',\n",
    "    )\n",
    "\n",
    "    samples_ord = sort_ids_by_distance(samples, state.references.embs)\n",
    "    samples_faces = [state.faces[i] for i in samples_ord]\n",
    "    \n",
    "    selection_widget = esper_widget(\n",
    "        query_faces_result(samples_faces), results_per_page=faces_per_page(),\n",
    "        crop_bboxes=True, jupyter_keybindings=True, disable_playback=True,\n",
    "        show_inline_metadata=False\n",
    "    )\n",
    "\n",
    "    cand_count = len(state.candidate_ids)\n",
    "    def on_submit(b):\n",
    "        # Read from the widget, update selections, and commit result\n",
    "        selected_idxs = set(selection_widget.selected)\n",
    "        selection_widget.close()\n",
    "        clear_output() \n",
    "        \n",
    "        # Add to positive set\n",
    "        pos_samples = {\n",
    "            f['id'] for _, f in filter(\n",
    "                lambda x: x[0] in selected_idxs,\n",
    "                enumerate(samples_faces))\n",
    "        }\n",
    "\n",
    "        # Add to negative set\n",
    "        neg_samples = {\n",
    "            f['id'] for _, f in filter(\n",
    "                lambda x: x[0] not in selected_idxs,\n",
    "                enumerate(samples_faces))\n",
    "        }\n",
    "        \n",
    "        print('You selected {} and ignored {} faces.'.format(\n",
    "              len(pos_samples), len(neg_samples)))\n",
    "        \n",
    "        # Update state\n",
    "        for i, e in face_embeddings.get(list(pos_samples)):\n",
    "            if i not in state.references.ids:\n",
    "                state.references.embs.append(e)\n",
    "        state.references.ids.update(pos_samples)\n",
    "        state.selected_ids.update(pos_samples)\n",
    "        state.candidate_ids.difference_update(pos_samples)\n",
    "        state.candidate_ids.difference_update(neg_samples)\n",
    "        \n",
    "        # Compute expected number of true positives\n",
    "        p_hat = len(pos_samples) / (len(pos_samples) + len(neg_samples))\n",
    "        p_hat_smooth = (len(pos_samples) + 1) / (len(pos_samples) + len(neg_samples) + 2)\n",
    "        print('\\nEstimated number of \"{}\"s remaining in the dataset: {} +/- {}'.format(\n",
    "            state.references.name,\n",
    "            int(p_hat * cand_count),\n",
    "            int(cand_count * 1.96 * math.sqrt(\n",
    "                p_hat_smooth * (1 - p_hat_smooth) / (len(pos_samples) + len(neg_samples) + 2)))\n",
    "        ))\n",
    "        print_status(state)\n",
    "    submit_button.on_click(on_submit)\n",
    "    \n",
    "    display(widgets.HBox([widgets.Label('Controls:'), submit_button]))\n",
    "    print('You MUST select all faces that are \"{}\". (Sorted from most to least similar.)'.format(state.references.name))\n",
    "    display(selection_widget)\n",
    "\n",
    "def do_discard(state):\n",
    "    fraction = float(input('Enter a proportion to discard (0, 1): '))\n",
    "    assert fraction > 0 and fraction < 1, 'Invalid discard fraction'\n",
    "    count = len(state.candidate_ids)\n",
    "    k = math.ceil((1. - fraction) * count)\n",
    "    \n",
    "    candidate_ids_ord = sort_ids_by_distance(\n",
    "        list(state.candidate_ids), state.references.embs\n",
    "    )[:k]\n",
    "    \n",
    "    # Update state\n",
    "    state.candidate_ids.intersection_update(candidate_ids_ord)\n",
    "    \n",
    "    print('Discarded {} candidates out of {}.'.format(\n",
    "        count - len(candidate_ids_ord), count))\n",
    "    print_status(state)\n",
    "    \n",
    "def do_nn_search(state, k=10000):\n",
    "    candidate_ids_ord = sort_ids_by_distance(\n",
    "        list(state.candidate_ids), state.references.embs\n",
    "    )[:k]\n",
    "    candidate_faces = [state.faces[i] for i in candidate_ids_ord]\n",
    "    \n",
    "    dismiss_button = widgets.Button(\n",
    "        layout=widgets.Layout(width='auto'),\n",
    "        style=WIDGET_STYLE_ARGS,\n",
    "        description='Dismiss widget',\n",
    "        disabled=False,\n",
    "        button_style='',\n",
    "    )\n",
    "    def on_dismiss(b):\n",
    "        clear_output()\n",
    "        print('Dismissed widget. No faces have been selected.')\n",
    "    dismiss_button.on_click(on_dismiss)\n",
    "\n",
    "    selection_widget = esper_widget(\n",
    "        query_faces_result(candidate_faces), results_per_page=faces_per_page(),\n",
    "        crop_bboxes=True, jupyter_keybindings=True, disable_playback=True,\n",
    "        show_inline_metadata=False\n",
    "    )\n",
    "    \n",
    "    submit_button = widgets.Button(\n",
    "        layout=widgets.Layout(width='auto'),\n",
    "        style=WIDGET_STYLE_ARGS,\n",
    "        description='Confirm selections',\n",
    "        disabled=False,\n",
    "        button_style='danger',\n",
    "    )\n",
    "    def on_submit(b):\n",
    "        selected_idxs = set(selection_widget.selected)\n",
    "        ignored_idxs = set(selection_widget.ignored)\n",
    "        if len(selected_idxs) == 0:\n",
    "            selected_idxs = {i for i in range(len(candidate_faces)) \n",
    "                             if i not in ignored_idxs}\n",
    "        clear_output()\n",
    "        \n",
    "        pos_samples = {candidate_faces[i]['id'] for i in selected_idxs}\n",
    "        neg_samples = {candidate_faces[i]['id'] for i in ignored_idxs}\n",
    "        \n",
    "        # Update state\n",
    "        state.selected_ids.update(pos_samples)\n",
    "        state.candidate_ids.difference_update(pos_samples)\n",
    "        state.candidate_ids.difference_update(neg_samples)\n",
    "        \n",
    "        print('Added {} examples and removed {} non-examples of \"{}\".'.format(\n",
    "            len(pos_samples), len(neg_samples), state.references.name))\n",
    "        print_status(state)\n",
    "    submit_button.on_click(on_submit)\n",
    "    \n",
    "    display(widgets.HBox([widgets.Label('Controls:'), submit_button, dismiss_button]))\n",
    "    print('You should select faces that are \"{}\". (Sorted from most to least similar.)'.format(\n",
    "        state.references.name))\n",
    "    display(selection_widget)\n",
    "    \n",
    "def show_selections(state):\n",
    "    dismiss_button = widgets.Button(\n",
    "        layout=widgets.Layout(width='auto'),\n",
    "        style=WIDGET_STYLE_ARGS,\n",
    "        description='Dismiss widget',\n",
    "        disabled=False,\n",
    "        button_style='',\n",
    "    )\n",
    "    def on_dismiss(b):\n",
    "        clear_output()\n",
    "        print('Dismissed widget. Rerun the cell to get it back.')\n",
    "    dismiss_button.on_click(on_dismiss)\n",
    "    \n",
    "    selected_ids = list(state.selected_ids)\n",
    "    mean_selected_emb = face_embeddings.mean(selected_ids)\n",
    "    selected_ids = sort_ids_by_distance(selected_ids, [mean_selected_emb])[::-1]\n",
    "    selected_faces = [state.faces[i] for i in selected_ids]\n",
    "\n",
    "    selection_widget = esper_widget(\n",
    "        query_faces_result(selected_faces), disable_playback=True,\n",
    "        crop_bboxes=True, jupyter_keybindings=True, show_inline_metadata=False,\n",
    "        results_per_page=faces_per_page())\n",
    "\n",
    "    submit_button = widgets.Button(\n",
    "        layout=widgets.Layout(width='auto'),\n",
    "        style=WIDGET_STYLE_ARGS,\n",
    "        description='Update selections',\n",
    "        disabled=False,\n",
    "        button_style='danger',\n",
    "    )\n",
    "    def on_submit(b):\n",
    "        selected_idxs = set(selection_widget.selected)\n",
    "        ignored_idxs = set(selection_widget.ignored)\n",
    "\n",
    "        selected_ids = {\n",
    "            f['id'] for i, f in enumerate(selected_faces) if i in selected_idxs\n",
    "        }\n",
    "        ignored_ids = {\n",
    "            f['id'] for i, f in enumerate(selected_faces) if i in ignored_idxs\n",
    "        }\n",
    "        \n",
    "        # Update state\n",
    "        for i, e in face_embeddings.get(list(selected_ids)):\n",
    "            if i not in state.references.ids:\n",
    "                state.references.embs.append(e)\n",
    "        state.references.ids.update(selected_ids)\n",
    "        state.references.ids.difference_update(ignored_ids)\n",
    "        state.selected_ids.difference_update(ignored_ids)\n",
    "\n",
    "        clear_output()\n",
    "        print(('Removed {} faces selected set. Added {} faces to the NN examples.').format(\n",
    "            len(ignored_ids), len(selected_ids)))\n",
    "    submit_button.on_click(on_submit)\n",
    "    \n",
    "    display(widgets.HBox([\n",
    "        widgets.Label('Controls:'), submit_button, dismiss_button]))\n",
    "    display(selection_widget)\n",
    "\n",
    "print('Done!')"
   ]
  },
  {
   "cell_type": "markdown",
   "metadata": {},
   "source": [
    "## Labeling Random Samples\n",
    "\n",
    "Labeling faces sampled randomly from the candidate set is a good way to obtain diversity in selected faces and also estimate the number of faces remaining in the dataset.\n",
    "\n",
    "`get_random_samples()` randomly samples faces from the candidate set. You MUST select the faces that are of the target person.\n",
    "\n",
    "<b>Instructions:</b>\n",
    "- Use \"[\" to select faces that are the target person (yellow highlight).\n",
    "- Hit <b>confirm</b> when done.\n",
    "\n",
    "Once you have confirmed, the selections will be saved and the number of remaining faces will be shown (estimated to 95% confidence)."
   ]
  },
  {
   "cell_type": "code",
   "execution_count": 11,
   "metadata": {
    "ExecuteTime": {
     "end_time": "2019-08-28T19:01:59.071809Z",
     "start_time": "2019-08-28T19:01:54.740467Z"
    },
    "hide_input": false,
    "scrolled": false
   },
   "outputs": [
    {
     "name": "stdout",
     "output_type": "stream",
     "text": [
      "You selected 24 and ignored 26 faces.\n",
      "\n",
      "Estimated number of \"Al Franken\"s remaining in the dataset: 48000 +/- 13580\n",
      "\n",
      "There are now 24 labeled \"Al Franken\"s and 99950 unlabeled faces remaining.\n"
     ]
    }
   ],
   "source": [
    "get_random_samples(STATE)"
   ]
  },
  {
   "cell_type": "markdown",
   "metadata": {},
   "source": [
    "## Selecting Most Likely Faces\n",
    "\n",
    "`do_nn_search()` will retreive faces in the candidate set and display most likely instances of the person first. Your task is to select faces that are the target person.\n",
    "\n",
    "<b>Instructions:</b>\n",
    "\n",
    "- Use \"[\" to select individiual faces (yellow highlight). \"Shift + [\" to highlight all unhighlighted faces on a page.\n",
    "- Use \"Shift + ?\" to select all unhighlighted faces up to the current one.\n",
    "- Use \"]\" to discard individual faces (red highlight). \"Shift + ]\" to discard all unhighlighted faces on a page.\n",
    "- Hit <b>confirm</b> when done.\n",
    "- If no faces are selected, then all unhighlighted faces will be selected.\n",
    "\n",
    "All faces highlighted in yellow will be saved, and removed from the candidate set. All faces highlighted in red will be discarded."
   ]
  },
  {
   "cell_type": "code",
   "execution_count": 12,
   "metadata": {
    "ExecuteTime": {
     "end_time": "2019-08-28T19:03:15.078736Z",
     "start_time": "2019-08-28T19:03:04.467218Z"
    },
    "scrolled": false
   },
   "outputs": [
    {
     "name": "stdout",
     "output_type": "stream",
     "text": [
      "Added 10000 examples and removed 0 non-examples of \"Al Franken\".\n",
      "\n",
      "There are now 10024 labeled \"Al Franken\"s and 89950 unlabeled faces remaining.\n"
     ]
    }
   ],
   "source": [
    "do_nn_search(STATE)"
   ]
  },
  {
   "cell_type": "markdown",
   "metadata": {},
   "source": [
    "## Discarding a Fraction of the Candidates\n",
    "\n",
    "If the target person is expected to occur 10K times and we have 100K candidates, we may potentially want to discard the least likely candidates. `do_discard()` removes the least likely fraction of the candidates."
   ]
  },
  {
   "cell_type": "code",
   "execution_count": 13,
   "metadata": {
    "ExecuteTime": {
     "end_time": "2019-08-28T19:06:15.894689Z",
     "start_time": "2019-08-28T19:06:13.669984Z"
    }
   },
   "outputs": [
    {
     "name": "stdout",
     "output_type": "stream",
     "text": [
      "Enter a proportion to discard (0, 1): .5\n",
      "Discarded 44975 candidates out of 89950.\n",
      "\n",
      "There are now 10024 labeled \"Al Franken\"s and 44975 unlabeled faces remaining.\n"
     ]
    }
   ],
   "source": [
    "do_discard(STATE)"
   ]
  },
  {
   "cell_type": "markdown",
   "metadata": {},
   "source": [
    "# Inspecting the Results\n",
    "\n",
    "`show_selections()` displays all of your current selections, in order from most likely to be a mistake to least likely.\n",
    "\n",
    "<b>Instructions:</b>\n",
    "\n",
    "- Use \"[\" to select individiual faces (yellow highlight). These will be added to the examples for whick NN search uses.\n",
    "- Use \"]\" to discard individual faces (red highlight). These will be unselected and discarded.\n",
    "- Hit <b>confirm</b> when done."
   ]
  },
  {
   "cell_type": "code",
   "execution_count": 14,
   "metadata": {
    "ExecuteTime": {
     "end_time": "2019-08-28T19:06:19.777684Z",
     "start_time": "2019-08-28T19:06:18.204316Z"
    },
    "scrolled": false
   },
   "outputs": [
    {
     "name": "stdout",
     "output_type": "stream",
     "text": [
      "Removed 0 faces selected set. Added 10024 faces to the NN examples.\n"
     ]
    }
   ],
   "source": [
    "show_selections(STATE)"
   ]
  },
  {
   "cell_type": "markdown",
   "metadata": {
    "ExecuteTime": {
     "end_time": "2019-01-30T02:36:29.240379Z",
     "start_time": "2019-01-30T02:36:29.214271Z"
    },
    "hide_input": false
   },
   "source": [
    "# Save Labels\n",
    "\n",
    "This will save your selections to the database."
   ]
  },
  {
   "cell_type": "code",
   "execution_count": 15,
   "metadata": {
    "ExecuteTime": {
     "end_time": "2019-08-28T19:07:02.472583Z",
     "start_time": "2019-08-28T19:06:51.520581Z"
    }
   },
   "outputs": [
    {
     "name": "stdout",
     "output_type": "stream",
     "text": [
      "Attempting to save 10024 labels for \"Al Franken\" to the database.\n",
      "Found existing labeler: face-identity-uncommon:al franken\n",
      "Found existing identity: al franken\n",
      "Saved 10024 new labels.\n"
     ]
    }
   ],
   "source": [
    "save_labels(STATE)"
   ]
  },
  {
   "cell_type": "markdown",
   "metadata": {
    "ExecuteTime": {
     "end_time": "2019-01-30T02:36:29.268471Z",
     "start_time": "2019-01-30T02:36:29.242827Z"
    }
   },
   "source": [
    "# Reset the Notebook"
   ]
  },
  {
   "cell_type": "code",
   "execution_count": null,
   "metadata": {
    "ExecuteTime": {
     "end_time": "2019-07-31T23:07:54.254249Z",
     "start_time": "2019-07-31T23:07:54.223578Z"
    }
   },
   "outputs": [],
   "source": [
    "reset_notebook()"
   ]
  },
  {
   "cell_type": "code",
   "execution_count": null,
   "metadata": {},
   "outputs": [],
   "source": []
  }
 ],
 "metadata": {
  "celltoolbar": "Initialization Cell",
  "kernelspec": {
   "display_name": "Django Shell-Plus",
   "language": "python",
   "name": "django_extensions"
  },
  "language_info": {
   "codemirror_mode": {
    "name": "ipython",
    "version": 3
   },
   "file_extension": ".py",
   "mimetype": "text/x-python",
   "name": "python",
   "nbconvert_exporter": "python",
   "pygments_lexer": "ipython3",
   "version": "3.5.2"
  },
  "toc": {
   "nav_menu": {},
   "number_sections": true,
   "sideBar": true,
   "skip_h1_title": false,
   "toc_cell": true,
   "toc_position": {},
   "toc_section_display": "block",
   "toc_window_display": false
  }
 },
 "nbformat": 4,
 "nbformat_minor": 2
}
