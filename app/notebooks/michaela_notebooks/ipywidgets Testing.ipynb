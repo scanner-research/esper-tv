{
 "cells": [
  {
   "cell_type": "code",
   "execution_count": 3,
   "metadata": {
    "ExecuteTime": {
     "end_time": "2019-07-24T17:35:58.506906Z",
     "start_time": "2019-07-24T17:35:58.492363Z"
    }
   },
   "outputs": [],
   "source": [
    "import os\n",
    "import sys\n",
    "module_path = os.path.abspath(os.path.join('..'))\n",
    "if module_path not in sys.path:\n",
    "    sys.path.append(module_path)"
   ]
  },
  {
   "cell_type": "code",
   "execution_count": 4,
   "metadata": {
    "ExecuteTime": {
     "end_time": "2019-07-24T17:36:01.170070Z",
     "start_time": "2019-07-24T17:36:01.147425Z"
    }
   },
   "outputs": [
    {
     "ename": "ImportError",
     "evalue": "No module named 'ipython_blocking'",
     "output_type": "error",
     "traceback": [
      "\u001b[0;31m---------------------------------------------------------------------------\u001b[0m",
      "\u001b[0;31mImportError\u001b[0m                               Traceback (most recent call last)",
      "\u001b[0;32m<ipython-input-4-ebe0109b2648>\u001b[0m in \u001b[0;36m<module>\u001b[0;34m()\u001b[0m\n\u001b[1;32m      1\u001b[0m \u001b[0;32mimport\u001b[0m \u001b[0mipywidgets\u001b[0m \u001b[0;32mas\u001b[0m \u001b[0mwidgets\u001b[0m\u001b[0;34m\u001b[0m\u001b[0m\n\u001b[0;32m----> 2\u001b[0;31m \u001b[0;32mimport\u001b[0m \u001b[0mipython_blocking\u001b[0m\u001b[0;34m\u001b[0m\u001b[0m\n\u001b[0m",
      "\u001b[0;31mImportError\u001b[0m: No module named 'ipython_blocking'"
     ]
    }
   ],
   "source": [
    "import ipywidgets as widgets\n",
    "import ipython_blocking"
   ]
  },
  {
   "cell_type": "code",
   "execution_count": null,
   "metadata": {
    "ExecuteTime": {
     "end_time": "2019-07-23T18:41:53.783263Z",
     "start_time": "2019-07-23T18:41:53.738291Z"
    }
   },
   "outputs": [],
   "source": [
    "import ipywidgets as widgets\n",
    "import cv2\n",
    "from IPython.display import display, Image\n",
    "from ipywidgets import interact, interactive, fixed, interact_manual\n",
    "import PIL.Image\n",
    "import io\n",
    "import os\n",
    "import sys\n",
    "from IPython.display import display\n",
    "module_path = os.path.abspath(os.path.join('..'))\n",
    "if module_path not in sys.path:\n",
    "    sys.path.append(module_path)"
   ]
  },
  {
   "cell_type": "code",
   "execution_count": null,
   "metadata": {
    "ExecuteTime": {
     "end_time": "2019-07-23T18:41:53.814039Z",
     "start_time": "2019-07-23T18:41:53.787425Z"
    }
   },
   "outputs": [],
   "source": [
    "button = widgets.ToggleButton(value=False,description=\"Click Me!\")\n",
    "# output = widgets.Output()\n",
    "def on_button_clicked(b):\n",
    "    if button.value:\n",
    "        button.description = \"Hey\"\n",
    "    else:\n",
    "        button.description = \"Click Me!\"\n",
    "    \n",
    "#     with output:\n",
    "#         print(\"Button clicked.\")\n",
    "button.observe(on_button_clicked)\n",
    "display(button)"
   ]
  },
  {
   "cell_type": "code",
   "execution_count": null,
   "metadata": {
    "ExecuteTime": {
     "end_time": "2019-07-23T18:41:53.832510Z",
     "start_time": "2019-07-23T18:41:53.817308Z"
    }
   },
   "outputs": [],
   "source": [
    "%blockrun button"
   ]
  },
  {
   "cell_type": "code",
   "execution_count": null,
   "metadata": {
    "ExecuteTime": {
     "end_time": "2019-07-23T18:41:53.912159Z",
     "start_time": "2019-07-23T18:41:53.835060Z"
    }
   },
   "outputs": [],
   "source": [
    "#Test 1 of out-of-esper \n",
    "def img_to_widget(img):\n",
    "#         height, width, _ = img.shape\n",
    "        f = io.BytesIO()\n",
    "        PIL.Image.fromarray(img).save(f, 'png')\n",
    "        return widgets.Image(value=f.getvalue(), height=height,\n",
    "                             width=width)\n",
    "def query_faces(ids):\n",
    "    faces = Face.objects.filter(id__in=ids)\n",
    "    return faces.values(\n",
    "        'id', 'bbox_y1', 'bbox_y2', 'bbox_x1', 'bbox_x2',\n",
    "        'frame__number', 'frame__video__id', 'frame__video__fps',\n",
    "        'shot__min_frame', 'shot__max_frame')\n",
    "\n",
    "def get_img_checkbox():\n",
    "    img_checkbox = widgets.ToggleButton(\n",
    "        layout=widgets.Layout(width='auto'),\n",
    "        value=False,\n",
    "        description='hey',\n",
    "        disabled=False,\n",
    "        button_style='',\n",
    "        icon=''\n",
    "    )\n",
    "    def on_toggle(b):\n",
    "        if img_checkbox.value:\n",
    "            img_checkbox.button_style = 'danger'\n",
    "            img_checkbox.icon = 'check'\n",
    "        else:\n",
    "            img_checkbox.button_style = ''\n",
    "            img_checkbox.icon = ''\n",
    "    img_checkbox.observe(on_toggle, names='value')\n",
    "    return img_checkbox\n",
    "def display_fancy_img():\n",
    "    PATH = \"/Users/qlc23/Desktop/pic1.jpeg\"\n",
    "    URL = \"https://66.media.tumblr.com/6da6e8d2402a45357a6659a8122a004d/tumblr_p3a90iN5dk1u5hnjwo2_500.jpg\"\n",
    "#     image = Image(url=URL)\n",
    "    file = open(\"ove_cat.jpg\", \"rb\")\n",
    "    image = file.read()\n",
    "    img = widgets.Image(\n",
    "        value=image,\n",
    "        format='jpg',\n",
    "        width=300,\n",
    "        height=300,\n",
    "    )\n",
    "    inter = widgets.ToggleButton(\n",
    "            layout=widgets.Layout(width='auto'),\n",
    "            value=False,\n",
    "            description='hey',\n",
    "            disabled=False,\n",
    "            button_style='',\n",
    "            icon=''\n",
    "    )\n",
    "    image_checkbox = get_img_checkbox()\n",
    "    w = widgets.VBox([img, image_checkbox])\n",
    "    display(w)\n",
    "#     display(img)\n",
    "#     display(inter) \n",
    "display_fancy_img()    "
   ]
  },
  {
   "cell_type": "code",
   "execution_count": null,
   "metadata": {
    "ExecuteTime": {
     "end_time": "2019-07-23T18:41:53.951527Z",
     "start_time": "2019-07-23T18:41:53.914962Z"
    }
   },
   "outputs": [],
   "source": [
    "def img_to_widget(img):\n",
    "    height, width, _ = img.shape\n",
    "    f = io.BytesIO()\n",
    "    PIL.Image.fromarray(img).save(f, 'png')\n",
    "    return widgets.Image(value=f.getvalue(), height=height,\n",
    "                         width=width)\n",
    "def _get_img_checkbox():\n",
    "    img_checkbox = widgets.ToggleButton(\n",
    "        layout=widgets.Layout(width='auto'),\n",
    "        value=False,\n",
    "        description='',\n",
    "        disabled=False,\n",
    "        button_style='',\n",
    "        icon=''\n",
    "    )\n",
    "    def on_toggle(b):\n",
    "        if img_checkbox.value:\n",
    "            img_checkbox.button_style = 'danger'\n",
    "            img_checkbox.icon = 'check'\n",
    "        else:\n",
    "            img_checkbox.button_style = ''\n",
    "            img_checkbox.icon = ''\n",
    "    img_checkbox.observe(on_toggle, names='value')\n",
    "    return img_checkbox\n",
    "\n",
    "def _show_clusters(cluster_ids):\n",
    "    checkboxes = []\n",
    "    vboxes = []\n",
    "    for cluster_id in sorted(cluster_ids):\n",
    "        print('Cluster {} ({} faces)'.format(cluster_id, len(clusters[cluster_id])))\n",
    "        img_widget = img_to_widget(\n",
    "            cv2.cvtColor(img_crop, cv2.COLOR_BGR2RGB))\n",
    "        img_checkbox = get_img_checkbox()\n",
    "        checkboxes.append(img_checkbox)\n",
    "        vboxes.append(widgets.VBox([img_widget, img_checkbox]))        \n",
    "    for cluster_id in sorted(cluster_ids):\n",
    "        imshow(cluster_images[cluster_id])\n",
    "        plt.show()\n",
    "        display(_get_img_checkbox)\n",
    "    images_per_row = 8\n",
    "    for i in range(0, len(vboxes), images_per_row):\n",
    "        display(widgets.HBox(vboxes[i:i + images_per_row]))"
   ]
  },
  {
   "cell_type": "code",
   "execution_count": null,
   "metadata": {
    "ExecuteTime": {
     "end_time": "2019-07-23T18:41:54.019005Z",
     "start_time": "2019-07-23T18:41:53.954468Z"
    }
   },
   "outputs": [],
   "source": [
    "def _delete_clusters_display():#cluster_ids, discarded_clusters):\n",
    "        arr = [1]\n",
    "        discarded_clusters= set()\n",
    "        delete_button = widgets.Button(description='Delete', button_style='success')\n",
    "        for cluster_id in range(1,5): #sorted(cluster_ids):\n",
    "#             print('Cluster {} ({} faces)'.format(cluster_id, len(clusters[cluster_id])))\n",
    "#             imshow(cluster_images[cluster_id])\n",
    "#             plt.show()\n",
    "            output = widgets.Output()    \n",
    "            display(delete_button, output)\n",
    "        \n",
    "        def on_delete(b):\n",
    "            cluster_to_discard = 1 #int(b.description.split(' ')[1])\n",
    "            arr.append('Hello')\n",
    "            print(arr)\n",
    "            discarded_clusters.add(cluster_to_discard)\n",
    "            print(discarded_clusters)\n",
    "#             remaining_clusters = _get_remaining_clusters(meta_clusters) - discarded_clusters\n",
    "#             clear_output()\n",
    "#             _show_clusters(remaining_clusters)\n",
    "            \n",
    "        delete_button.on_click(on_delete)\n",
    "_delete_clusters_display()\n"
   ]
  },
  {
   "cell_type": "code",
   "execution_count": null,
   "metadata": {
    "ExecuteTime": {
     "end_time": "2019-07-23T18:41:54.085469Z",
     "start_time": "2019-07-23T18:41:54.023022Z"
    }
   },
   "outputs": [],
   "source": [
    "a = widgets.IntSlider(description='a')\n",
    "b = widgets.IntSlider(description='b')\n",
    "c = widgets.IntSlider(description='c')\n",
    "def f(a, b, c):\n",
    "    print('{}*{}*{}={}'.format(a, b, c, a*b*c))\n",
    "\n",
    "out = widgets.interactive_output(f, {'a': a, 'b': b, 'c': c})\n",
    "\n",
    "widgets.HBox([widgets.VBox([a, b, c]), out])"
   ]
  },
  {
   "cell_type": "code",
   "execution_count": null,
   "metadata": {
    "ExecuteTime": {
     "end_time": "2019-07-23T18:41:54.118412Z",
     "start_time": "2019-07-23T18:41:54.088435Z"
    }
   },
   "outputs": [],
   "source": [
    "widgets.IntSlider(\n",
    "    value=7,\n",
    "    min=0,\n",
    "    max=10,\n",
    "    step=1,\n",
    "    description='Test:',\n",
    "    disabled=False,\n",
    "    continuous_update=False,\n",
    "    orientation='horizontal',\n",
    "    readout=True,\n",
    "    readout_format='d'\n",
    ")"
   ]
  },
  {
   "cell_type": "code",
   "execution_count": null,
   "metadata": {
    "ExecuteTime": {
     "end_time": "2019-07-23T18:41:54.153498Z",
     "start_time": "2019-07-23T18:41:54.121219Z"
    }
   },
   "outputs": [],
   "source": [
    "box = widgets.Checkbox(False, description='checker')\n",
    "out = widgets.Output()\n",
    "\n",
    "@out.capture()\n",
    "def changed(b):\n",
    "    arr.append(1)\n",
    "    print(arr)\n",
    "arr = []\n",
    "box.observe(changed)\n",
    "\n",
    "display(box)\n",
    "display(out)"
   ]
  },
  {
   "cell_type": "code",
   "execution_count": null,
   "metadata": {
    "ExecuteTime": {
     "end_time": "2019-07-23T18:41:54.197980Z",
     "start_time": "2019-07-23T18:41:54.156346Z"
    }
   },
   "outputs": [],
   "source": [
    "w = widgets.ToggleButton(\n",
    "    value=False,\n",
    "    description='Click me',\n",
    "    disabled=False,\n",
    "    button_style='', # 'success', 'info', 'warning', 'danger' or ''\n",
    "    tooltip='Description',\n",
    "    icon='check'\n",
    ")\n",
    "display(w)\n",
    "out = widgets.Output(layout={'border': '1px solid black'})\n",
    "with out:\n",
    "    for i in range(10):\n",
    "        print(i, 'Hello world!')\n",
    "out"
   ]
  },
  {
   "cell_type": "code",
   "execution_count": null,
   "metadata": {
    "ExecuteTime": {
     "end_time": "2019-07-23T18:41:54.265106Z",
     "start_time": "2019-07-23T18:41:54.200662Z"
    }
   },
   "outputs": [],
   "source": [
    "a = widgets.IntSlider(description='a')\n",
    "b = widgets.IntSlider(description='b')\n",
    "c = widgets.IntSlider(description='c')\n",
    "def f(a, b, c):\n",
    "    print('{}*{}*{}={}'.format(a, b, c, a*b*c))\n",
    "\n",
    "out = widgets.interactive_output(f, {'a': a, 'b': b, 'c': c})\n",
    "\n",
    "widgets.HBox([widgets.VBox([a, b, c]), out])"
   ]
  },
  {
   "cell_type": "code",
   "execution_count": null,
   "metadata": {
    "ExecuteTime": {
     "end_time": "2019-07-23T18:41:54.297407Z",
     "start_time": "2019-07-23T18:41:54.267534Z"
    }
   },
   "outputs": [],
   "source": [
    "debug_view = widgets.Output(layout={'border': '1px solid black'})\n",
    "\n",
    "@debug_view.capture(clear_output=True)\n",
    "def bad_callback(event):\n",
    "    print('This is about to explode')\n",
    "    return 1.0 / 0.0\n",
    "\n",
    "button = widgets.Button(\n",
    "    description='click me to raise an exception',\n",
    "    layout={'width': '300px'}\n",
    ")\n",
    "button.on_click(bad_callback)\n",
    "button"
   ]
  },
  {
   "cell_type": "code",
   "execution_count": null,
   "metadata": {},
   "outputs": [],
   "source": []
  }
 ],
 "metadata": {
  "kernelspec": {
   "display_name": "Python 3",
   "language": "python",
   "name": "python3"
  },
  "toc": {
   "nav_menu": {},
   "number_sections": true,
   "sideBar": true,
   "skip_h1_title": false,
   "toc_cell": false,
   "toc_position": {},
   "toc_section_display": "block",
   "toc_window_display": false
  }
 },
 "nbformat": 4,
 "nbformat_minor": 2
}
