{
 "cells": [
  {
   "cell_type": "code",
   "execution_count": 1,
   "metadata": {
    "ExecuteTime": {
     "end_time": "2019-08-07T17:21:36.589303Z",
     "start_time": "2019-08-07T17:21:27.091458Z"
    },
    "scrolled": false
   },
   "outputs": [
    {
     "ename": "AssertionError",
     "evalue": "('Tamir Rice', 'Victim', 'Feb 26, 2012') is not in the database",
     "output_type": "error",
     "traceback": [
      "\u001b[0;31m---------------------------------------------------------------------------\u001b[0m",
      "\u001b[0;31mAssertionError\u001b[0m                            Traceback (most recent call last)",
      "\u001b[0;32m<ipython-input-1-e307bf66708d>\u001b[0m in \u001b[0;36m<module>\u001b[0;34m()\u001b[0m\n\u001b[1;32m     22\u001b[0m \u001b[0morm_set\u001b[0m \u001b[0;34m=\u001b[0m \u001b[0;34m{\u001b[0m \u001b[0mx\u001b[0m\u001b[0;34m.\u001b[0m\u001b[0mname\u001b[0m \u001b[0;32mfor\u001b[0m \u001b[0mx\u001b[0m \u001b[0;32min\u001b[0m \u001b[0mIdentity\u001b[0m\u001b[0;34m.\u001b[0m\u001b[0mobjects\u001b[0m\u001b[0;34m.\u001b[0m\u001b[0mfilter\u001b[0m\u001b[0;34m(\u001b[0m\u001b[0mname__in\u001b[0m\u001b[0;34m=\u001b[0m\u001b[0;34m[\u001b[0m\u001b[0ms\u001b[0m\u001b[0;34m[\u001b[0m\u001b[0;36m0\u001b[0m\u001b[0;34m]\u001b[0m\u001b[0;34m.\u001b[0m\u001b[0mlower\u001b[0m\u001b[0;34m(\u001b[0m\u001b[0;34m)\u001b[0m \u001b[0;32mfor\u001b[0m \u001b[0ms\u001b[0m \u001b[0;32min\u001b[0m \u001b[0mshootings\u001b[0m\u001b[0;34m]\u001b[0m\u001b[0;34m)\u001b[0m \u001b[0;34m}\u001b[0m\u001b[0;34m\u001b[0m\u001b[0m\n\u001b[1;32m     23\u001b[0m \u001b[0;32mfor\u001b[0m \u001b[0ms\u001b[0m \u001b[0;32min\u001b[0m \u001b[0mshootings\u001b[0m\u001b[0;34m:\u001b[0m\u001b[0;34m\u001b[0m\u001b[0m\n\u001b[0;32m---> 24\u001b[0;31m     \u001b[0;32massert\u001b[0m \u001b[0ms\u001b[0m\u001b[0;34m[\u001b[0m\u001b[0;36m0\u001b[0m\u001b[0;34m]\u001b[0m\u001b[0;34m.\u001b[0m\u001b[0mlower\u001b[0m\u001b[0;34m(\u001b[0m\u001b[0;34m)\u001b[0m \u001b[0;32min\u001b[0m \u001b[0morm_set\u001b[0m\u001b[0;34m,\u001b[0m \u001b[0;34m'{} is not in the database'\u001b[0m\u001b[0;34m.\u001b[0m\u001b[0mformat\u001b[0m\u001b[0;34m(\u001b[0m\u001b[0ms\u001b[0m\u001b[0;34m)\u001b[0m\u001b[0;34m\u001b[0m\u001b[0m\n\u001b[0m\u001b[1;32m     25\u001b[0m \u001b[0;34m\u001b[0m\u001b[0m\n\u001b[1;32m     26\u001b[0m \u001b[0midentity_clustering_workflow\u001b[0m\u001b[0;34m(\u001b[0m\u001b[0;34m'Tamir Rice'\u001b[0m\u001b[0;34m,\u001b[0m\u001b[0;34m'Feb 26, 2012'\u001b[0m\u001b[0;34m,\u001b[0m \u001b[0;32mTrue\u001b[0m\u001b[0;34m)\u001b[0m\u001b[0;34m\u001b[0m\u001b[0m\n",
      "\u001b[0;31mAssertionError\u001b[0m: ('Tamir Rice', 'Victim', 'Feb 26, 2012') is not in the database"
     ]
    }
   ],
   "source": [
    "import ipywidgets as widgets\n",
    "from IPython.display import display\n",
    "import esper.identity_clusters\n",
    "from esper.identity_clusters import identity_clustering_workflow,_manual_recluster,visualization_workflow\n",
    "\n",
    "shootings = [\n",
    "    ('Muhammad Youssef Abdulazeez', 'Chattanooga', 'Jul 16, 2015'),\n",
    "    ('Chris Harper-Mercer', 'Umpqua Community College', 'Oct 1, 2015'),\n",
    "    ('Robert Lewis Dear Jr', 'Colorado Springs - Planned Parenthood', 'Nov 27, 2015'),\n",
    "    ('Syed Rizwan Farook', 'San Bernardino', 'Dec 2, 2015'), \n",
    "    ('Tashfeen Malik', 'San Bernardino', 'Dec 2, 2015'),\n",
    "    ('Dylann Roof', 'Charleston Shurch', 'Jun 17, 2015'),\n",
    "    ('Omar Mateen', 'Orlando Nightclub', 'Jun 12, 2016'),\n",
    "    ('Micah Xavier Johnson', 'Dallas Police', 'Jul 7-8, 2016'),\n",
    "    ('Gavin Eugene Long', 'Baton Rouge Police', 'Jul 17, 2016'),\n",
    "    ('Esteban Santiago-Ruiz', 'Ft. Lauderdale Airport', 'Jan 6, 2017'),\n",
    "    ('Willie Corey Godbolt', 'Lincoln County', 'May 28, 2017'),\n",
    "    ('Stephen Paddock', 'Las Vegas', 'Oct 1, 2017'),\n",
    "    ('Devin Patrick Kelley', 'San Antonio Church', 'Nov 5, 2017'),\n",
    "    ('Tamir Rice','Victim','Feb 26, 2012')\n",
    "]\n",
    "orm_set = { x.name for x in Identity.objects.filter(name__in=[s[0].lower() for s in shootings]) }\n",
    "for s in shootings:\n",
    "    assert s[0].lower() in orm_set, '{} is not in the database'.format(s)\n",
    "\n",
    "identity_clustering_workflow('Tamir Rice','Feb 26, 2012', True)"
   ]
  },
  {
   "cell_type": "code",
   "execution_count": null,
   "metadata": {},
   "outputs": [],
   "source": []
  }
 ],
 "metadata": {
  "kernelspec": {
   "display_name": "Django Shell-Plus",
   "language": "python",
   "name": "django_extensions"
  },
  "language_info": {
   "codemirror_mode": {
    "name": "ipython",
    "version": 3
   },
   "file_extension": ".py",
   "mimetype": "text/x-python",
   "name": "python",
   "nbconvert_exporter": "python",
   "pygments_lexer": "ipython3",
   "version": "3.5.2"
  },
  "toc": {
   "nav_menu": {},
   "number_sections": true,
   "sideBar": true,
   "skip_h1_title": false,
   "toc_cell": false,
   "toc_position": {},
   "toc_section_display": "block",
   "toc_window_display": false
  }
 },
 "nbformat": 4,
 "nbformat_minor": 2
}
