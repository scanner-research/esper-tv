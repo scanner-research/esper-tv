{
 "cells": [
  {
   "cell_type": "markdown",
   "metadata": {},
   "source": [
    "# Michael Brown"
   ]
  },
  {
   "cell_type": "code",
   "execution_count": 1,
   "metadata": {
    "ExecuteTime": {
     "end_time": "2019-08-07T17:22:52.450158Z",
     "start_time": "2019-08-07T17:22:45.358697Z"
    }
   },
   "outputs": [],
   "source": [
    "import ipywidgets as widgets\n",
    "from IPython.display import display\n",
    "import esper.identity_clusters\n",
    "from esper.identity_clusters import identity_clustering_workflow,_manual_recluster,visualization_workflow"
   ]
  },
  {
   "cell_type": "code",
   "execution_count": 2,
   "metadata": {
    "ExecuteTime": {
     "end_time": "2019-08-07T17:22:52.496257Z",
     "start_time": "2019-08-07T17:22:52.453623Z"
    }
   },
   "outputs": [],
   "source": [
    "shootings = [\n",
    "    ('Muhammad Youssef Abdulazeez', 'Chattanooga', 'Jul 16, 2015'),\n",
    "    ('Chris Harper-Mercer', 'Umpqua Community College', 'Oct 1, 2015'),\n",
    "    ('Robert Lewis Dear Jr', 'Colorado Springs - Planned Parenthood', 'Nov 27, 2015'),\n",
    "    ('Syed Rizwan Farook', 'San Bernardino', 'Dec 2, 2015'), \n",
    "    ('Tashfeen Malik', 'San Bernardino', 'Dec 2, 2015'),\n",
    "    ('Dylann Roof', 'Charleston Shurch', 'Jun 17, 2015'),\n",
    "    ('Omar Mateen', 'Orlando Nightclub', 'Jun 12, 2016'),\n",
    "    ('Micah Xavier Johnson', 'Dallas Police', 'Jul 7-8, 2016'),\n",
    "    ('Gavin Eugene Long', 'Baton Rouge Police', 'Jul 17, 2016'),\n",
    "    ('Esteban Santiago-Ruiz', 'Ft. Lauderdale Airport', 'Jan 6, 2017'),\n",
    "    ('Willie Corey Godbolt', 'Lincoln County', 'May 28, 2017'),\n",
    "    ('Stephen Paddock', 'Las Vegas', 'Oct 1, 2017'),\n",
    "    ('Devin Patrick Kelley', 'San Antonio Church', 'Nov 5, 2017'),\n",
    "    ('Eric Garner', 'New York', 'Jul 17, 2014'),\n",
    "    ('Michael Brown', 'Ferguson', 'Aug 09, 2014')\n",
    "]\n",
    "orm_set = { x.name for x in Identity.objects.filter(name__in=[s[0].lower() for s in shootings]) }\n",
    "for s in shootings:\n",
    "    assert s[0].lower() in orm_set, '{} is not in the database'.format(s)"
   ]
  },
  {
   "cell_type": "code",
   "execution_count": null,
   "metadata": {
    "ExecuteTime": {
     "start_time": "2019-08-07T17:22:14.990Z"
    }
   },
   "outputs": [],
   "source": [
    "identity_clustering_workflow('Michael Brown','Aug 09, 2014', True)"
   ]
  },
  {
   "cell_type": "code",
   "execution_count": null,
   "metadata": {},
   "outputs": [],
   "source": []
  }
 ],
 "metadata": {
  "kernelspec": {
   "display_name": "Django Shell-Plus",
   "language": "python",
   "name": "django_extensions"
  },
  "language_info": {
   "codemirror_mode": {
    "name": "ipython",
    "version": 3
   },
   "file_extension": ".py",
   "mimetype": "text/x-python",
   "name": "python",
   "nbconvert_exporter": "python",
   "pygments_lexer": "ipython3",
   "version": "3.5.2"
  },
  "toc": {
   "nav_menu": {},
   "number_sections": true,
   "sideBar": true,
   "skip_h1_title": false,
   "toc_cell": false,
   "toc_position": {},
   "toc_section_display": "block",
   "toc_window_display": false
  }
 },
 "nbformat": 4,
 "nbformat_minor": 2
}
