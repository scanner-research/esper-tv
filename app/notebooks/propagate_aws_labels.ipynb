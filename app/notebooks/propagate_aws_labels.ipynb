{
 "cells": [
  {
   "cell_type": "code",
   "execution_count": 1,
   "metadata": {
    "ExecuteTime": {
     "end_time": "2019-09-25T08:21:12.273966Z",
     "start_time": "2019-09-25T08:21:03.113412Z"
    }
   },
   "outputs": [
    {
     "name": "stdout",
     "output_type": "stream",
     "text": [
      "Created labeler: face-identity-rekognition:augmented-l2-dist=0.5\n"
     ]
    }
   ],
   "source": [
    "from collections import Counter, defaultdict\n",
    "from tqdm import tqdm\n",
    "\n",
    "import esper.face_embeddings as face_embed\n",
    "from esper.widget import esper_widget, qs_to_result\n",
    "\n",
    "videos = Video.objects.all()\n",
    "# videos = [\n",
    "#     Video.objects.get(path='tvnews/videos/MSNBC_20110110_150000_Jansing_and_Co..mp4')\n",
    "# ]\n",
    "\n",
    "PROB_THRESH = 0.9\n",
    "MIN_LABEL_THRESH = 5\n",
    "L2_THRESH = 0.5\n",
    "DEBUG = False\n",
    "\n",
    "rekognition_labeler = Labeler.objects.get(name='face-identity-rekognition')\n",
    "rekognition_labeler_augmented, created_labeler = Labeler.objects.get_or_create(\n",
    "    name='face-identity-rekognition:augmented-l2-dist={}'.format(L2_THRESH)\n",
    ")\n",
    "if created_labeler:\n",
    "    print('Created labeler:', rekognition_labeler_augmented.name)\n",
    "sampler_3s = FrameSampler.objects.get(name='3s')\n",
    "\n",
    "def process_video(video):\n",
    "    if DEBUG: print('Video:', video.path)\n",
    "    \n",
    "    if not created_labeler and FaceIdentity.objects.filter(\n",
    "        labeler=rekognition_labeler_augmented,\n",
    "        face__frame__sampler=sampler_3s,\n",
    "        face__frame__video=video\n",
    "    ).exists():\n",
    "        return\n",
    "    \n",
    "    face_idents = list(FaceIdentity.objects.filter(\n",
    "        face__frame__video=video, face__frame__sampler=sampler_3s,\n",
    "        labeler=rekognition_labeler, probability__gt=PROB_THRESH\n",
    "    ).select_related())\n",
    "    if DEBUG: print('Found {} face identities'.format(len(face_idents)))\n",
    "    \n",
    "    if len(face_idents) == 0:\n",
    "        return\n",
    "    \n",
    "    all_faces = list(Face.objects.filter(\n",
    "        frame__video=video, frame__sampler=sampler_3s\n",
    "    ).select_related())\n",
    "    if DEBUG: print('Total {} faces'.format(len(all_faces)))\n",
    "    \n",
    "    all_faces_ids = [x.id for x in all_faces]\n",
    "    face_ids_with_embs = {\n",
    "        i for i, ex in\n",
    "        zip(all_faces_ids, face_embed.exists(all_faces_ids)) if ex\n",
    "    }\n",
    "    \n",
    "    counts = Counter()\n",
    "    for fi in face_idents:\n",
    "        counts[fi.identity.name] += 1\n",
    "    \n",
    "    names_to_prop = set()\n",
    "    for name in counts:\n",
    "        if counts[name] > MIN_LABEL_THRESH:\n",
    "            names_to_prop.add(name)\n",
    "    if DEBUG: print('Propagating {} names'.format(len(names_to_prop)))\n",
    "            \n",
    "    labeled_ids = {\n",
    "        fi.face.id : fi.identity.id for fi in face_idents \n",
    "        if fi.face.id in face_ids_with_embs and fi.identity.name in names_to_prop\n",
    "    }\n",
    "    unlabeled_ids = [\n",
    "        f.id for f in all_faces            \n",
    "        if f.id in face_ids_with_embs and f.id not in labeled_ids\n",
    "    ]\n",
    "    if len(labeled_ids) == 0 or len(unlabeled_ids) == 0:\n",
    "        return\n",
    "    \n",
    "    # Filter out unlabeled ids with no candidates\n",
    "    unlabeled_ids_with_candidates = []\n",
    "    for a, b in zip(unlabeled_ids, face_embed.dist(unlabeled_ids, target_ids=list(labeled_ids))):\n",
    "        if b < L2_THRESH:\n",
    "            unlabeled_ids_with_candidates.append(a)\n",
    "\n",
    "    new_labels = defaultdict(lambda: Counter())\n",
    "    for face_id, identity_id in labeled_ids.items():\n",
    "        for a, b in zip(\n",
    "            unlabeled_ids_with_candidates, \n",
    "            face_embed.dist(unlabeled_ids_with_candidates, target_ids=[face_id])\n",
    "        ):\n",
    "            if b < L2_THRESH:\n",
    "                new_labels[a][identity_id] += 1\n",
    "    \n",
    "    still_unlabeled = [i for i in unlabeled_ids if i not in new_labels]\n",
    "    if DEBUG: \n",
    "        print('Found {} labels, {} are still unlabeled'.format(\n",
    "              len(new_labels), len(still_unlabeled)))\n",
    "    \n",
    "    new_identity_labels = []\n",
    "    num_conflicts = 0\n",
    "    for face_id, identity_counter in new_labels.items():\n",
    "        if len(identity_counter) > 1:\n",
    "            num_conflicts += 1\n",
    "        identity_id, identity_count = identity_counter.most_common(1)[0]\n",
    "        new_identity_labels.append(FaceIdentity(\n",
    "            labeler=rekognition_labeler_augmented, face_id=face_id,\n",
    "            probability=0.5, identity_id=identity_id\n",
    "        ))\n",
    "    if num_conflicts > 0:\n",
    "        if DEBUG: print('Found {} conflicts in {}'.format(num_conflicts, video.path))\n",
    "    if len(new_identity_labels) > 0:\n",
    "        FaceIdentity.objects.bulk_create(new_identity_labels)"
   ]
  },
  {
   "cell_type": "code",
   "execution_count": 2,
   "metadata": {
    "ExecuteTime": {
     "end_time": "2019-09-26T12:41:44.274662Z",
     "start_time": "2019-09-25T08:21:12.276459Z"
    }
   },
   "outputs": [
    {
     "name": "stderr",
     "output_type": "stream",
     "text": [
      "100%|███████████████████████████████████████████████████| 257031/257031 [28:20:28<00:00, 75.31it/s]\n"
     ]
    }
   ],
   "source": [
    "for video in tqdm(videos):\n",
    "    process_video(video)"
   ]
  },
  {
   "cell_type": "code",
   "execution_count": null,
   "metadata": {},
   "outputs": [],
   "source": [
    "# esper_widget(qs_to_result(Face.objects.filter(id__in=[\n",
    "#         l for l in new_labels if 'michael grimm' in new_labels[l]\n",
    "#     ]), limit=200),\n",
    "#     jupyter_keybindings=True)"
   ]
  },
  {
   "cell_type": "code",
   "execution_count": null,
   "metadata": {},
   "outputs": [],
   "source": [
    "# new_labels"
   ]
  },
  {
   "cell_type": "code",
   "execution_count": null,
   "metadata": {},
   "outputs": [],
   "source": []
  }
 ],
 "metadata": {
  "kernelspec": {
   "display_name": "Django Shell-Plus",
   "language": "python",
   "name": "django_extensions"
  },
  "language_info": {
   "codemirror_mode": {
    "name": "ipython",
    "version": 3
   },
   "file_extension": ".py",
   "mimetype": "text/x-python",
   "name": "python",
   "nbconvert_exporter": "python",
   "pygments_lexer": "ipython3",
   "version": "3.5.2"
  },
  "toc": {
   "nav_menu": {},
   "number_sections": true,
   "sideBar": true,
   "skip_h1_title": false,
   "toc_cell": false,
   "toc_position": {},
   "toc_section_display": "block",
   "toc_window_display": false
  }
 },
 "nbformat": 4,
 "nbformat_minor": 2
}
