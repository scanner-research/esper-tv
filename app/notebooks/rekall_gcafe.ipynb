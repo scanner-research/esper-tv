{
 "cells": [
  {
   "cell_type": "code",
   "execution_count": null,
   "metadata": {
    "ExecuteTime": {
     "end_time": "2019-04-18T06:13:20.092608Z",
     "start_time": "2019-04-18T06:13:19.997581Z"
    },
    "hide_input": true
   },
   "outputs": [],
   "source": [
    "from rekall.video_interval_collection import VideoIntervalCollection\n",
    "from rekall.interval_list import Interval, IntervalList\n",
    "from rekall.temporal_predicates import *\n",
    "from rekall.logical_predicates import *\n",
    "from esper.rekall import intrvllists_to_result, add_intrvllists_to_result\n",
    "#from vgrid_jupyter import VGridWidget\n",
    "#from esper.widget import intervals_with_metadata\n",
    "from esper.prelude import esper_widget\n",
    "from query.models import FaceIdentity\n",
    "from django.db.models import IntegerField, F\n",
    "from django.db.models.functions import Cast\n",
    "\n",
    "def get_fps_map(vids):\n",
    "    from query.models import Video\n",
    "    vs = Video.objects.filter(id__in=vids)\n",
    "    return {v.id: v.fps for v in vs}\n",
    "\n",
    "def frame_second_conversion(c, mode='f2s'):\n",
    "    fps_map = get_fps_map(set(c.get_intervals().keys()))\n",
    "    \n",
    "    def second_to_frame(fps):\n",
    "        def map_fn(intrvl):\n",
    "            i2 = intrvl.copy()\n",
    "            t1,t2 = intrvl.t\n",
    "            i2.t = (int(t1*fps), int(t2*fps))\n",
    "            return i2\n",
    "        return map_fn\n",
    "    \n",
    "    def frame_to_second(fps):\n",
    "        def map_fn(intrvl):\n",
    "            i2 = intrvl.copy()\n",
    "            t1,t2 = intrvl.t\n",
    "            i2.t = (int(t1/fps), int(t2/fps))\n",
    "            return i2\n",
    "        return map_fn\n",
    "    \n",
    "    if mode=='f2s':\n",
    "        fn = frame_to_second\n",
    "    if mode=='s2f':\n",
    "        fn = second_to_frame\n",
    "    output = {}\n",
    "    for vid, intervals in c.get_grouped_intervals().items():\n",
    "        output[vid] = intervals.map(fn(fps_map[vid]))\n",
    "    return VideoIntervalCollection(output)\n",
    "\n",
    "def frame_to_second_collection(c):\n",
    "    return frame_second_conversion(c, 'f2s')\n",
    "\n",
    "def second_to_frame_collection(c):\n",
    "    return frame_second_conversion(c, 's2f')\n",
    "\n",
    "from query.models import LabeledInterview, LabeledPanel, LabeledCommercial, Video, FaceIdentity, Face\n",
    "sandbox_videos = [529, 763, 2648, 3459, 3730, 3769, 3952, 4143, 4611, 5281, 6185, 7262, 8220,\n",
    "    8697, 8859, 9215, 9480, 9499, 9901, 10323, 10335, 11003, 11555, 11579, 11792,\n",
    "    12837, 13058, 13141, 13247, 13556, 13827, 13927, 13993, 14482, 15916, 16215,\n",
    "    16542, 16693, 16879, 17458, 17983, 19882, 19959, 20380, 20450, 23181, 23184,\n",
    "    24193, 24847, 24992, 25463, 26386, 27188, 27410, 29001, 31378, 32472, 32996,\n",
    "    33004, 33387, 33541, 33800, 34359, 34642, 36755, 37107, 37113, 37170, 38275,\n",
    "    38420, 40203, 40856, 41480, 41725, 42756, 45472, 45645, 45655, 45698, 48140,\n",
    "    49225, 49931, 50164, 50561, 51175, 52075, 52749, 52945, 53355, 53684, 54377,\n",
    "    55711, 57384, 57592, 57708, 57804, 57990, 59122, 59398, 60186]\n",
    "\n",
    "interviews_django_qs = LabeledInterview.objects \\\n",
    "        .annotate(fps=F('video__fps')) \\\n",
    "        .annotate(min_frame=F('fps') * F('start')) \\\n",
    "        .annotate(max_frame=F('fps') * F('end')).filter(original=True)\n",
    "panels = LabeledPanel.objects \\\n",
    "        .annotate(fps=F('video__fps')) \\\n",
    "        .annotate(min_frame=F('fps') * F('start')) \\\n",
    "        .annotate(max_frame=F('fps') * F('end'))\n",
    "commercials = LabeledCommercial.objects \\\n",
    "        .annotate(fps=F('video__fps')) \\\n",
    "        .annotate(min_frame=F('fps') * F('start')) \\\n",
    "        .annotate(max_frame=F('fps') * F('end'))\n",
    "\n",
    "def display(cols_and_colors):\n",
    "    result = intrvllists_to_result(\n",
    "        cols_and_colors[0][0].get_allintervals(),\n",
    "        color=cols_and_colors[0][1]\n",
    "    )\n",
    "    for col, color in cols_and_colors[1:]:\n",
    "        add_intrvllists_to_result(result, col.get_allintervals(), color=color)\n",
    "    return esper_widget(result, jupyter_keybindings=True, disable_captions=True)\n",
    "\n",
    "def intersect(intrvl1, intrvl2):\n",
    "    return [intrvl1.overlap(intrvl2)]\n",
    "\n",
    "def span(intrvl1, intrvl2):\n",
    "    return [intrvl1.merge(intrvl2)]"
   ]
  },
  {
   "cell_type": "markdown",
   "metadata": {},
   "source": [
    "# Step 1: Watch a bunch of TV"
   ]
  },
  {
   "cell_type": "code",
   "execution_count": null,
   "metadata": {
    "ExecuteTime": {
     "end_time": "2019-04-18T05:53:43.033727Z",
     "start_time": "2019-04-18T05:53:42.647816Z"
    }
   },
   "outputs": [],
   "source": [
    "# Load interviews from database\n",
    "# interviews_django_qs is a representation of a SQL table\n",
    "#   rows are hand-annotated interviews\n",
    "interviews_gt = VideoIntervalCollection.from_django_qs(interviews_django_qs)"
   ]
  },
  {
   "cell_type": "code",
   "execution_count": null,
   "metadata": {
    "ExecuteTime": {
     "end_time": "2019-04-18T05:54:56.483771Z",
     "start_time": "2019-04-18T05:54:56.357020Z"
    }
   },
   "outputs": [],
   "source": [
    "display([(interviews_gt, 'red')])"
   ]
  },
  {
   "cell_type": "markdown",
   "metadata": {},
   "source": [
    "# Step 2: Gather ground truth"
   ]
  },
  {
   "cell_type": "code",
   "execution_count": null,
   "metadata": {
    "ExecuteTime": {
     "end_time": "2019-04-18T05:55:42.311971Z",
     "start_time": "2019-04-18T05:55:42.287954Z"
    }
   },
   "outputs": [],
   "source": [
    "# Filter the SQL table\n",
    "jake_bernie_interviews_qs = interviews_django_qs.filter(\n",
    "    interviewer1=\"jake tapper\",\n",
    "    guest1=\"bernie sanders\"\n",
    ")"
   ]
  },
  {
   "cell_type": "code",
   "execution_count": null,
   "metadata": {
    "ExecuteTime": {
     "end_time": "2019-04-18T05:55:59.747957Z",
     "start_time": "2019-04-18T05:55:59.720337Z"
    }
   },
   "outputs": [],
   "source": [
    "# import into rekall\n",
    "interviews_jake_bernie_gt = VideoIntervalCollection.from_django_qs(\n",
    "    jake_bernie_interviews_qs\n",
    ")"
   ]
  },
  {
   "cell_type": "code",
   "execution_count": null,
   "metadata": {
    "ExecuteTime": {
     "end_time": "2019-04-18T06:05:17.059917Z",
     "start_time": "2019-04-18T06:05:16.974023Z"
    }
   },
   "outputs": [],
   "source": [
    "display([(interviews_jake_bernie_gt, 'black')])"
   ]
  },
  {
   "cell_type": "markdown",
   "metadata": {},
   "source": [
    "# First query: frames where Jake Tapper and Bernie Sanders appear together"
   ]
  },
  {
   "cell_type": "code",
   "execution_count": null,
   "metadata": {
    "ExecuteTime": {
     "end_time": "2019-04-18T06:00:36.702851Z",
     "start_time": "2019-04-18T05:58:46.636815Z"
    }
   },
   "outputs": [],
   "source": [
    "# Let's query for Bernie Sanders interviews with Jake Tapper. This may take a while to materialize all the data.\n",
    "identities = FaceIdentity.objects.filter(face__shot__video_id__in=sandbox_videos)\n",
    "jake_qs = identities.filter(identity__name=\"jake tapper\").filter(probability__gt=0.7)\n",
    "bernie_qs = identities.filter(identity__name=\"bernie sanders\").filter(probability__gt=0.7)=\n",
    "\n",
    "jake = VideoIntervalCollection.from_django_qs(jake_qs\n",
    "    .annotate(video_id=F(\"face__shot__video_id\"))\n",
    "    .annotate(min_frame=F(\"face__shot__min_frame\"))\n",
    "    .annotate(max_frame=F(\"face__shot__max_frame\")))\n",
    "bernie = VideoIntervalCollection.from_django_qs(bernie_qs\n",
    "    .annotate(video_id=F(\"face__shot__video_id\"))\n",
    "    .annotate(min_frame=F(\"face__shot__min_frame\"))\n",
    "    .annotate(max_frame=F(\"face__shot__max_frame\")))"
   ]
  },
  {
   "cell_type": "code",
   "execution_count": null,
   "metadata": {
    "ExecuteTime": {
     "end_time": "2019-04-18T06:04:25.420898Z",
     "start_time": "2019-04-18T06:04:25.395685Z"
    }
   },
   "outputs": [],
   "source": [
    "jake.get_allintervals().keys()"
   ]
  },
  {
   "cell_type": "code",
   "execution_count": null,
   "metadata": {
    "ExecuteTime": {
     "end_time": "2019-04-18T06:07:23.528183Z",
     "start_time": "2019-04-18T06:07:23.427955Z"
    }
   },
   "outputs": [],
   "source": [
    "# Join Jake and Bernie, and merge any intervals that are touching or overlapping\n",
    "jake_and_bernie = jake.join(\n",
    "    bernie,\n",
    "    predicate = overlaps(),\n",
    "    merge_op = intersect\n",
    ").coalesce()"
   ]
  },
  {
   "cell_type": "code",
   "execution_count": null,
   "metadata": {
    "ExecuteTime": {
     "end_time": "2019-04-18T06:07:24.666561Z",
     "start_time": "2019-04-18T06:07:24.556142Z"
    }
   },
   "outputs": [],
   "source": [
    "display([\n",
    "    (interviews_jake_bernie_gt, 'black'),\n",
    "    (jake_and_bernie, 'red')\n",
    "])"
   ]
  },
  {
   "cell_type": "markdown",
   "metadata": {},
   "source": [
    "# Increase Recall by expressing a temporal pattern"
   ]
  },
  {
   "cell_type": "code",
   "execution_count": null,
   "metadata": {
    "ExecuteTime": {
     "end_time": "2019-04-18T06:20:09.055774Z",
     "start_time": "2019-04-18T06:20:08.838613Z"
    }
   },
   "outputs": [],
   "source": [
    "'''\n",
    "We're going to look for the following patterns:\n",
    "    (Bernie + Jake) -> Jake OR\n",
    "    Jake -> (Bernie + Jake) OR\n",
    "    (Bernie + Jake) -> Bernie OR\n",
    "    Bernie -> (Bernie + Jake)\n",
    "\n",
    "We'll coalesce that, and then check in with the Esper widget again.\n",
    "'''\n",
    "new_interviews = jake_and_bernie.join(\n",
    "    jake, predicate = or_pred(before(max_dist=10), after(max_dist=10), arity=2),\n",
    "    merge_op = span\n",
    ").set_union(\n",
    "    jake_and_bernie.join(\n",
    "        bernie, predicate=or_pred(before(max_dist=10), after(max_dist=10), arity=2),\n",
    "        merge_op = span\n",
    "    )\n",
    ").coalesce()\n",
    "\n",
    "display([\n",
    "    (interviews_jake_bernie_gt, 'black'),\n",
    "    (new_interviews, 'red')\n",
    "])"
   ]
  },
  {
   "cell_type": "markdown",
   "metadata": {},
   "source": [
    "# Get rid of small gaps with dilation"
   ]
  },
  {
   "cell_type": "code",
   "execution_count": null,
   "metadata": {
    "ExecuteTime": {
     "end_time": "2019-04-18T06:21:26.917247Z",
     "start_time": "2019-04-18T06:21:26.821244Z"
    }
   },
   "outputs": [],
   "source": [
    "# dilate by 20 seconds\n",
    "new_interviews_no_gaps = new_interviews.dilate(600).coalesce().dilate(-600)\n",
    "\n",
    "display([\n",
    "    (interviews_jake_bernie_gt, 'black'),\n",
    "    (new_interviews_no_gaps, 'red')\n",
    "])"
   ]
  },
  {
   "cell_type": "markdown",
   "metadata": {},
   "source": [
    "# Increase precision by filtering"
   ]
  },
  {
   "cell_type": "code",
   "execution_count": null,
   "metadata": {
    "ExecuteTime": {
     "end_time": "2019-04-18T06:23:23.615007Z",
     "start_time": "2019-04-18T06:23:23.516709Z"
    }
   },
   "outputs": [],
   "source": [
    "# filter out segments shorter than two minute2\n",
    "more_precise_interviews = new_interviews_no_gaps.filter_length(min_length=3600)\n",
    "\n",
    "display([\n",
    "    (interviews_jake_bernie_gt, 'black'),\n",
    "    (more_precise_interviews, 'red')\n",
    "])"
   ]
  },
  {
   "cell_type": "markdown",
   "metadata": {},
   "source": [
    "# Full query\n"
   ]
  },
  {
   "cell_type": "code",
   "execution_count": null,
   "metadata": {
    "ExecuteTime": {
     "end_time": "2019-04-18T06:25:16.223664Z",
     "start_time": "2019-04-18T06:25:15.912668Z"
    }
   },
   "outputs": [],
   "source": [
    "bernie_jake_interviews = jake.join(\n",
    "    bernie,\n",
    "    predicate = overlaps(),\n",
    "    merge_op = intersect\n",
    ").join(\n",
    "    jake, predicate = or_pred(before(max_dist=10), after(max_dist=10), arity=2),\n",
    "    merge_op = span\n",
    ").set_union(\n",
    "    jake.join(\n",
    "        bernie,\n",
    "        predicate = overlaps(),\n",
    "        merge_op = intersect\n",
    "    ).join(\n",
    "        bernie, predicate=or_pred(before(max_dist=10), after(max_dist=10), arity=2),\n",
    "        merge_op = span\n",
    "    )\n",
    ").coalesce().dilate(\n",
    "    600\n",
    ").coalesce().dilate(\n",
    "    -600\n",
    ").filter_length(min_length=3600)\n",
    "\n",
    "display([\n",
    "    (interviews_jake_bernie_gt, 'black'),\n",
    "    (bernie_jake_interviews, 'red')\n",
    "])"
   ]
  }
 ],
 "metadata": {
  "kernelspec": {
   "display_name": "Django Shell-Plus",
   "language": "python",
   "name": "django_extensions"
  },
  "language_info": {
   "codemirror_mode": {
    "name": "ipython",
    "version": 3
   },
   "file_extension": ".py",
   "mimetype": "text/x-python",
   "name": "python",
   "nbconvert_exporter": "python",
   "pygments_lexer": "ipython3",
   "version": "3.5.2"
  },
  "toc": {
   "nav_menu": {},
   "number_sections": true,
   "sideBar": true,
   "skip_h1_title": false,
   "toc_cell": false,
   "toc_position": {},
   "toc_section_display": "block",
   "toc_window_display": false
  }
 },
 "nbformat": 4,
 "nbformat_minor": 2
}
