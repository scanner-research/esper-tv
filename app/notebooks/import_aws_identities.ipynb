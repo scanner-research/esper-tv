{
 "cells": [
  {
   "cell_type": "code",
   "execution_count": 1,
   "metadata": {
    "ExecuteTime": {
     "end_time": "2019-09-19T19:13:03.340375Z",
     "start_time": "2019-09-19T19:13:03.011082Z"
    }
   },
   "outputs": [
    {
     "name": "stdout",
     "output_type": "stream",
     "text": [
      "Labeler: face-identity-rekognition\n"
     ]
    }
   ],
   "source": [
    "import json\n",
    "import os\n",
    "from tqdm import tqdm\n",
    "\n",
    "DATA_DIR = '/app/data/aws-rekognition-results'\n",
    "\n",
    "LABELER = Labeler.objects.get(name='face-identity-rekognition')\n",
    "print('Labeler:', LABELER.name)"
   ]
  },
  {
   "cell_type": "code",
   "execution_count": 2,
   "metadata": {
    "ExecuteTime": {
     "end_time": "2019-09-19T19:13:04.479989Z",
     "start_time": "2019-09-19T19:13:04.147305Z"
    }
   },
   "outputs": [
    {
     "name": "stdout",
     "output_type": "stream",
     "text": [
      "Found: 202972 results\n"
     ]
    }
   ],
   "source": [
    "ALL_RESULT_FILES = os.listdir(DATA_DIR)\n",
    "print('Found: {} results'.format(len(ALL_RESULT_FILES)))"
   ]
  },
  {
   "cell_type": "code",
   "execution_count": 3,
   "metadata": {
    "ExecuteTime": {
     "start_time": "2019-09-19T19:37:08.877Z"
    }
   },
   "outputs": [
    {
     "name": "stderr",
     "output_type": "stream",
     "text": [
      "100%|██████████████████████████████████████████████████████| 202972/202972 [39:18<00:00, 86.07it/s]\n"
     ]
    }
   ],
   "source": [
    "CACHED_IDENTITIES = {}\n",
    "\n",
    "def ingest_labels(labels):\n",
    "    if len(labels) == 0:\n",
    "        return\n",
    "    face_ids = [l[0] for l in labels]\n",
    "    existing_qs = FaceIdentity.objects.filter(\n",
    "        labeler=LABELER, face__id__in=[l[0] for l in labels])\n",
    "    existing_count = existing_qs.count()\n",
    "    if existing_count == len(labels):\n",
    "        return\n",
    "    else:\n",
    "        print('Uh oh, some labels missing: expected {}, got {}'.format(\n",
    "              len(labels), existing_count))\n",
    "        assert existing_count == 0\n",
    "    \n",
    "    new_face_idents = []\n",
    "    for face_id, ident_name, score in labels:\n",
    "        ident_name = ident_name.strip()\n",
    "        if ident_name not in CACHED_IDENTITIES:\n",
    "            ident, created = Identity.objects.get_or_create(name=ident_name.lower())\n",
    "            if created:\n",
    "                print('Created identity:', ident.name)\n",
    "            CACHED_IDENTITIES[ident_name] = ident\n",
    "        else:\n",
    "            ident = CACHED_IDENTITIES[ident_name]\n",
    "        new_face_idents.append(FaceIdentity(\n",
    "            labeler=LABELER, face_id=face_id, identity=ident,\n",
    "            probability=score / 100\n",
    "        ))\n",
    "    assert len(FaceIdentity.objects.bulk_create(new_face_idents)) == len(labels)\n",
    "    created_qs = FaceIdentity.objects.filter(\n",
    "        labeler=LABELER, face__id__in=[l[0] for l in labels])\n",
    "#     assert created_qs.count() == len(labels)\n",
    "    \n",
    "\n",
    "for fname in tqdm(ALL_RESULT_FILES):\n",
    "    fpath = os.path.join(DATA_DIR, fname)\n",
    "    with open(fpath) as f:\n",
    "        fdata = json.load(f)\n",
    "    ingest_labels(fdata)"
   ]
  },
  {
   "cell_type": "code",
   "execution_count": null,
   "metadata": {
    "ExecuteTime": {
     "end_time": "2019-09-17T23:28:10.994183Z",
     "start_time": "2019-09-17T23:21:02.583270Z"
    }
   },
   "outputs": [],
   "source": [
    "FaceIdentity.objects.filter(labeler=LABELER).count()"
   ]
  },
  {
   "cell_type": "code",
   "execution_count": null,
   "metadata": {
    "ExecuteTime": {
     "end_time": "2019-09-19T18:57:13.011442Z",
     "start_time": "2019-09-19T18:50:45.966976Z"
    }
   },
   "outputs": [],
   "source": [
    "small_count = 0\n",
    "for fname in ALL_RESULT_FILES:\n",
    "    fpath = os.path.join(DATA_DIR, fname)\n",
    "    with open(fpath) as f:\n",
    "        fdata = json.load(f)\n",
    "    if len(fdata) == 0:\n",
    "        print(fpath)\n",
    "        small_count += 1\n",
    "small_count"
   ]
  },
  {
   "cell_type": "code",
   "execution_count": null,
   "metadata": {},
   "outputs": [],
   "source": []
  }
 ],
 "metadata": {
  "kernelspec": {
   "display_name": "Django Shell-Plus",
   "language": "python",
   "name": "django_extensions"
  },
  "language_info": {
   "codemirror_mode": {
    "name": "ipython",
    "version": 3
   },
   "file_extension": ".py",
   "mimetype": "text/x-python",
   "name": "python",
   "nbconvert_exporter": "python",
   "pygments_lexer": "ipython3",
   "version": "3.5.2"
  },
  "toc": {
   "nav_menu": {},
   "number_sections": true,
   "sideBar": true,
   "skip_h1_title": false,
   "toc_cell": false,
   "toc_position": {},
   "toc_section_display": "block",
   "toc_window_display": false
  }
 },
 "nbformat": 4,
 "nbformat_minor": 2
}
