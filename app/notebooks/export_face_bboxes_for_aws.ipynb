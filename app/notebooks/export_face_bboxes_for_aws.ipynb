{
 "cells": [
  {
   "cell_type": "code",
   "execution_count": 2,
   "metadata": {
    "ExecuteTime": {
     "end_time": "2019-08-08T23:32:43.002377Z",
     "start_time": "2019-08-08T23:32:42.973091Z"
    }
   },
   "outputs": [],
   "source": [
    "import os\n",
    "import json\n",
    "from collections import defaultdict\n",
    "from tqdm import tqdm\n",
    "\n",
    "OUT_DIR = '/app/data/aws_face_bboxes_new'\n",
    "\n",
    "def get_video_name(s):\n",
    "    return os.path.splitext(s.split('/')[-1])[0]\n",
    "\n",
    "frame_3s_sampler = FrameSampler.objects.get(name='3s')\n",
    "face_labeler = Labeler.objects.get(name='mtcnn:july-25-2019')"
   ]
  },
  {
   "cell_type": "code",
   "execution_count": null,
   "metadata": {
    "ExecuteTime": {
     "start_time": "2019-08-08T23:32:44.081Z"
    }
   },
   "outputs": [
    {
     "name": "stderr",
     "output_type": "stream",
     "text": [
      " 48%|█████████████████████████▍                           | 123581/257031 [49:38<19:34, 113.60it/s]"
     ]
    }
   ],
   "source": [
    "if not os.path.exists(OUT_DIR):\n",
    "    os.makedirs(OUT_DIR)\n",
    "\n",
    "for video in tqdm(Video.objects.all().order_by('id')):\n",
    "    video_name = get_video_name(video.path)\n",
    "    frame_to_faces = defaultdict(list)\n",
    "    for f in Face.objects.filter(\n",
    "            frame__video=video, frame__sampler=frame_3s_sampler, labeler=face_labeler\n",
    "        ).values('id', 'frame__number', 'bbox_x1', 'bbox_x2', 'bbox_y1', 'bbox_y2'):\n",
    "        frame_to_faces[f['frame__number']].append({\n",
    "            'id': f['id'], 'bbox': {\n",
    "                'x1': f['bbox_x1'], 'x2': f['bbox_x2'], 'y1': f['bbox_y1'], 'y2': f['bbox_y2']\n",
    "            }\n",
    "        })\n",
    "    video_out_file = os.path.join(OUT_DIR, video_name + '.faces.json')\n",
    "    with open(video_out_file, 'w') as f:\n",
    "        json.dump(list(frame_to_faces.items()), f)"
   ]
  },
  {
   "cell_type": "code",
   "execution_count": null,
   "metadata": {
    "ExecuteTime": {
     "start_time": "2019-08-09T00:22:32.815Z"
    }
   },
   "outputs": [],
   "source": [
    "video_and_fps = [(v.id, get_video_name(v.path), v.fps) for v in Video.objects.all()]"
   ]
  },
  {
   "cell_type": "code",
   "execution_count": null,
   "metadata": {
    "ExecuteTime": {
     "start_time": "2019-08-09T00:22:33.167Z"
    }
   },
   "outputs": [],
   "source": [
    "with open('/app/data/videos_and_fps.json', 'w') as f:\n",
    "    json.dump(video_and_fps, f)"
   ]
  },
  {
   "cell_type": "code",
   "execution_count": null,
   "metadata": {},
   "outputs": [],
   "source": []
  }
 ],
 "metadata": {
  "kernelspec": {
   "display_name": "Django Shell-Plus",
   "language": "python",
   "name": "django_extensions"
  },
  "language_info": {
   "codemirror_mode": {
    "name": "ipython",
    "version": 3
   },
   "file_extension": ".py",
   "mimetype": "text/x-python",
   "name": "python",
   "nbconvert_exporter": "python",
   "pygments_lexer": "ipython3",
   "version": "3.5.2"
  },
  "toc": {
   "nav_menu": {},
   "number_sections": true,
   "sideBar": true,
   "skip_h1_title": false,
   "toc_cell": false,
   "toc_position": {},
   "toc_section_display": "block",
   "toc_window_display": false
  }
 },
 "nbformat": 4,
 "nbformat_minor": 2
}
