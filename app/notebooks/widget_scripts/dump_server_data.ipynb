{
 "cells": [
  {
   "cell_type": "markdown",
   "metadata": {
    "toc": true
   },
   "source": [
    "<h1>Table of Contents<span class=\"tocSkip\"></span></h1>\n",
    "<div class=\"toc\" style=\"margin-top: 1em;\"><ul class=\"toc-item\"><li><span><a href=\"#Write-out-the-frame-table\" data-toc-modified-id=\"Write-out-the-frame-table-1\"><span class=\"toc-item-num\">1&nbsp;&nbsp;</span>Write out the frame table</a></span></li><li><span><a href=\"#Write-out-the-video-table\" data-toc-modified-id=\"Write-out-the-video-table-2\"><span class=\"toc-item-num\">2&nbsp;&nbsp;</span>Write out the video table</a></span></li><li><span><a href=\"#Write-out-the-identity-table\" data-toc-modified-id=\"Write-out-the-identity-table-3\"><span class=\"toc-item-num\">3&nbsp;&nbsp;</span>Write out the identity table</a></span></li></ul></div>"
   ]
  },
  {
   "cell_type": "code",
   "execution_count": 1,
   "metadata": {
    "ExecuteTime": {
     "end_time": "2019-04-09T01:00:03.026348Z",
     "start_time": "2019-04-09T00:59:54.878951Z"
    }
   },
   "outputs": [],
   "source": [
    "import pyspark.sql.functions as func\n",
    "from collections import defaultdict\n",
    "import random\n",
    "import pickle\n",
    "import json\n",
    "from datetime import datetime\n",
    "from pytz import timezone\n",
    "from pathlib import Path\n",
    "from tqdm import tqdm\n",
    "\n",
    "from esper.spark_util import *\n",
    "from esper.major_canonical_shows import MAJOR_CANONICAL_SHOWS\n",
    "\n",
    "WIDGET_DATA_DIR = '/app/data/widget-data'\n",
    "if not os.path.exists(WIDGET_DATA_DIR):\n",
    "    os.makedirs(WIDGET_DATA_DIR)"
   ]
  },
  {
   "cell_type": "code",
   "execution_count": 2,
   "metadata": {
    "ExecuteTime": {
     "end_time": "2019-04-09T01:00:03.063841Z",
     "start_time": "2019-04-09T01:00:03.030186Z"
    }
   },
   "outputs": [],
   "source": [
    "OVERWRITE = True"
   ]
  },
  {
   "cell_type": "code",
   "execution_count": 3,
   "metadata": {
    "ExecuteTime": {
     "end_time": "2019-03-09T07:55:51.671138Z",
     "start_time": "2019-03-09T07:51:08.115032Z"
    }
   },
   "outputs": [
    {
     "name": "stderr",
     "output_type": "stream",
     "text": [
      "Constructing host probability udf...\n",
      "  148 canonical shows have hosts\n",
      "  channel_id=1 has 36 unique hosts\n",
      "  channel_id=2 has 50 unique hosts\n",
      "  channel_id=3 has 91 unique hosts\n"
     ]
    }
   ],
   "source": [
    "face_genders = get_face_genders()\n",
    "face_genders = face_genders.where(\n",
    "    (face_genders.labeler_id == Labeler.objects.get(name='knn-gender').id) &\n",
    "    (face_genders.height >= 0.2) &\n",
    "    (face_genders.in_commercial == False)\n",
    ")\n",
    "face_genders = face_genders.withColumn('start_time', face_genders.max_frame / face_genders.fps)\n",
    "face_genders = face_genders.withColumn('end_time', face_genders.min_frame / face_genders.fps)"
   ]
  },
  {
   "cell_type": "code",
   "execution_count": 4,
   "metadata": {
    "ExecuteTime": {
     "end_time": "2019-03-09T07:55:52.004784Z",
     "start_time": "2019-03-09T07:55:51.674444Z"
    }
   },
   "outputs": [],
   "source": [
    "face_identities = get_face_identities()\n",
    "face_identities = face_identities.where(\n",
    "    (face_identities.in_commercial == False) &\n",
    "    (face_identities.height >= 0.2)\n",
    ")\n",
    "face_identities = face_identities.withColumn('start_time', face_identities.max_frame / face_identities.fps)\n",
    "face_identities = face_identities.withColumn('end_time', face_identities.min_frame / face_identities.fps)"
   ]
  },
  {
   "cell_type": "code",
   "execution_count": 7,
   "metadata": {
    "ExecuteTime": {
     "end_time": "2019-03-09T08:01:20.253737Z",
     "start_time": "2019-03-09T08:01:20.206986Z"
    }
   },
   "outputs": [],
   "source": [
    "class FrameInfo(object):\n",
    "    \n",
    "    def __init__(self, start, end):\n",
    "        self.start = start\n",
    "        self.end = end\n",
    "        self.male_cnt = 0.\n",
    "        self.female_cnt = 0.\n",
    "        self.gender_var = 0. # SURPRISE! THEY ARE EQUAL!\n",
    "        self.male_nh_cnt = 0.\n",
    "        self.female_nh_cnt = 0.\n",
    "        self.gender_nh_var = 0.\n",
    "        self.identities = {}\n",
    "    \n",
    "    def add_face_gender(self, fg):\n",
    "        female_prob = fg['female_probability']\n",
    "        male_prob = fg['male_probability']\n",
    "        nh_host_prob = 1. - fg['host_probability']\n",
    "        \n",
    "        # Adding indicator variables and their variances\n",
    "        self.male_cnt += male_prob\n",
    "        self.female_cnt += female_prob\n",
    "        self.gender_var += (1. - male_prob) * male_prob\n",
    "        \n",
    "        self.male_nh_cnt += male_prob * nh_host_prob\n",
    "        self.female_nh_cnt += female_prob * nh_host_prob\n",
    "        self.gender_nh_var += (1. - male_prob) * male_prob * (nh_host_prob ** 2)\n",
    "    \n",
    "    def add_face_identity(self, fi):\n",
    "        identity_id = fi['identity_id']\n",
    "        identity_prob = fi['probability']\n",
    "        if identity_id in self.identities:\n",
    "            cur_cnt, cur_var = self.identities[identity_id]\n",
    "        else:\n",
    "            cur_cnt, cur_var = 0., 0.\n",
    "        self.identities[identity_id] = (cur_cnt + identity_prob, cur_var + identity_prob * (1. - identity_prob))\n",
    "        \n",
    "    def get(self):\n",
    "        return (\n",
    "            self.start, self.end, \n",
    "            self.male_cnt,\n",
    "            self.female_cnt, \n",
    "            self.gender_var, \n",
    "            self.male_nh_cnt,\n",
    "            self.female_nh_cnt,\n",
    "            self.gender_nh_var,\n",
    "            self.identities\n",
    "        )"
   ]
  },
  {
   "cell_type": "code",
   "execution_count": 8,
   "metadata": {
    "ExecuteTime": {
     "end_time": "2019-03-09T09:13:58.246526Z",
     "start_time": "2019-03-09T08:01:23.002567Z"
    }
   },
   "outputs": [],
   "source": [
    "video_id_to_frames_to_info = {}\n",
    "\n",
    "fg_query = face_genders.select(\n",
    "    'video_id', 'min_frame', 'start_time', 'end_time', \n",
    "    'male_probability', 'female_probability', 'host_probability'\n",
    ")\n",
    "# fg_query = fg_query.limit(1000)\n",
    "\n",
    "for fg in fg_query.collect():\n",
    "    video_id = fg.video_id\n",
    "    frames_to_info = video_id_to_frames_to_info.get(video_id, {})\n",
    "    min_frame = fg.min_frame\n",
    "    if min_frame not in frames_to_info:\n",
    "        frames_to_info[min_frame] = FrameInfo(fg.start_time, fg.end_time)\n",
    "    frames_to_info[min_frame].add_face_gender(fg)\n",
    "    video_id_to_frames_to_info[video_id] = frames_to_info"
   ]
  },
  {
   "cell_type": "code",
   "execution_count": 9,
   "metadata": {
    "ExecuteTime": {
     "end_time": "2019-03-09T09:37:07.329783Z",
     "start_time": "2019-03-09T09:13:58.250023Z"
    }
   },
   "outputs": [],
   "source": [
    "fi_query = face_identities.select(\n",
    "    'video_id', 'min_frame', 'start_time', 'end_time',\n",
    "    'identity_id', 'probability'\n",
    ")\n",
    "# fi_query = fi_query.limit(1000)\n",
    "\n",
    "for fi in fi_query.collect():\n",
    "    video_id = fi.video_id\n",
    "    frames_to_info = video_id_to_frames_to_info.get(video_id, {})\n",
    "    min_frame = fi.min_frame\n",
    "    if min_frame not in frames_to_info:\n",
    "        print('Weird: {} has no gender but has identities'.format(min_frame))\n",
    "        frames_to_info[min_frame] = FrameInfo(fi.start_time, fi.end_time)\n",
    "    frames_to_info[min_frame].add_face_identity(fi)\n",
    "    video_id_to_frames_to_info[video_id] = frames_to_info"
   ]
  },
  {
   "cell_type": "code",
   "execution_count": 10,
   "metadata": {
    "ExecuteTime": {
     "end_time": "2019-03-09T09:55:07.644883Z",
     "start_time": "2019-03-09T09:37:07.633812Z"
    }
   },
   "outputs": [],
   "source": [
    "output_video_id_to_frames = {}\n",
    "for video_id, f2i in video_id_to_frames_to_info.items():\n",
    "    frame_list = []\n",
    "    for min_frame, frame_info in f2i.items():\n",
    "        frame_list.append((min_frame, *frame_info.get()))\n",
    "    frame_list.sort(key=lambda x: x[1]) # sort by start time\n",
    "    output_video_id_to_frames[video_id] = frame_list"
   ]
  },
  {
   "cell_type": "markdown",
   "metadata": {},
   "source": [
    "# Write out the frame table"
   ]
  },
  {
   "cell_type": "code",
   "execution_count": 11,
   "metadata": {
    "ExecuteTime": {
     "end_time": "2019-03-09T09:55:07.674047Z",
     "start_time": "2019-03-09T09:55:07.648147Z"
    }
   },
   "outputs": [],
   "source": [
    "# FRAME_TABLE_PATH = os.path.join(WIDGET_DATA_DIR, 'frame_table.pkl')\n",
    "# if not OVERWRITE and os.path.exists(FRAME_TABLE_PATH):\n",
    "#     raise Exception('File exists!')\n",
    "    \n",
    "# with open(FRAME_TABLE_PATH, 'wb') as f:\n",
    "#     pickle.dump(output_video_id_to_frames, f)"
   ]
  },
  {
   "cell_type": "code",
   "execution_count": 13,
   "metadata": {
    "ExecuteTime": {
     "end_time": "2019-03-09T10:57:03.293089Z",
     "start_time": "2019-03-09T10:07:03.305962Z"
    }
   },
   "outputs": [
    {
     "data": {
      "application/vnd.jupyter.widget-view+json": {
       "model_id": "1a83aa2c024143fa9cafd1e444a6f5f3",
       "version_major": 2,
       "version_minor": 0
      },
      "text/plain": [
       "HBox(children=(IntProgress(value=0, max=181726), HTML(value='')))"
      ]
     },
     "metadata": {},
     "output_type": "display_data"
    },
    {
     "name": "stdout",
     "output_type": "stream",
     "text": [
      "\n"
     ]
    }
   ],
   "source": [
    "FRAME_PER_VIDEO_DIR = os.path.join(WIDGET_DATA_DIR, 'frame_table')\n",
    "if not os.path.exists(FRAME_PER_VIDEO_DIR):\n",
    "    os.makedirs(FRAME_PER_VIDEO_DIR)\n",
    "\n",
    "for video_id in tqdm(output_video_id_to_frames):\n",
    "    video_file_path = os.path.join(FRAME_PER_VIDEO_DIR, '{}.json'.format(video_id))\n",
    "    with open(video_file_path, 'w') as f:\n",
    "        json.dump(output_video_id_to_frames[video_id], f)"
   ]
  },
  {
   "cell_type": "markdown",
   "metadata": {},
   "source": [
    "# Write out the video table"
   ]
  },
  {
   "cell_type": "code",
   "execution_count": 3,
   "metadata": {
    "ExecuteTime": {
     "end_time": "2019-04-09T01:00:12.166981Z",
     "start_time": "2019-04-09T01:00:03.066304Z"
    }
   },
   "outputs": [],
   "source": [
    "from datetime import datetime\n",
    "from django.db.models import F, ExpressionWrapper, FloatField\n",
    "\n",
    "def get_video_name(p):\n",
    "    return Path(p).name.split('.')[0]\n",
    "\n",
    "UTC = timezone('UTC')\n",
    "EST = timezone('EST')\n",
    "DATE_FORMAT = '%Y-%m-%d'\n",
    "def get_date_minute_from_name(p):\n",
    "    channel, ymd, hms, _ = p.split('_', 3)\n",
    "    timestamp = datetime.strptime(ymd + hms, '%Y%m%d%H%M%S')\n",
    "    timestamp_est = timestamp.replace(tzinfo=UTC).astimezone(tz=EST)\n",
    "    assert timestamp.hour != timestamp_est.hour\n",
    "    return timestamp_est.strftime(DATE_FORMAT), timestamp_est.hour * 60 + timestamp_est.minute\n",
    "\n",
    "\n",
    "video_data = []\n",
    "for v in Video.objects.filter(\n",
    "    duplicate=False, corrupted=False,\n",
    ").values(\n",
    "    'id', 'path', 'show__canonical_show__name', 'channel__name', 'num_frames', 'fps', 'width', 'height'\n",
    "):\n",
    "    video_name = get_video_name(v['path'])\n",
    "    video_date, video_minute = get_date_minute_from_name(video_name)\n",
    "    video_data.append((\n",
    "        v['id'],\n",
    "        video_name,\n",
    "        v['show__canonical_show__name'],\n",
    "        v['channel__name'],\n",
    "        video_date,\n",
    "        video_minute,\n",
    "        v['num_frames'],\n",
    "        v['fps'],\n",
    "        v['width'],\n",
    "        v['height']\n",
    "    ))\n",
    "                      \n",
    "VIDEO_TABLE_PATH = os.path.join(WIDGET_DATA_DIR, 'videos.json')\n",
    "if not OVERWRITE and os.path.exists(VIDEO_TABLE_PATH):\n",
    "    raise Exception('File exists!')\n",
    "    \n",
    "with open(VIDEO_TABLE_PATH, 'w') as f:\n",
    "    json.dump(video_data, f)           "
   ]
  },
  {
   "cell_type": "markdown",
   "metadata": {},
   "source": [
    "# Write out the identity table"
   ]
  },
  {
   "cell_type": "code",
   "execution_count": 17,
   "metadata": {
    "ExecuteTime": {
     "end_time": "2019-03-15T23:56:55.378163Z",
     "start_time": "2019-03-15T23:56:55.336677Z"
    }
   },
   "outputs": [],
   "source": [
    "identity_data = [(i.id, i.name) for i in Identity.objects.all()]\n",
    "\n",
    "IDENTITY_TABLE_PATH = os.path.join(WIDGET_DATA_DIR, 'identity.json')\n",
    "if not OVERWRITE and os.path.exists(IDENTITY_TABLE_PATH):\n",
    "    raise Exception('File exists!')\n",
    "    \n",
    "with open(IDENTITY_TABLE_PATH, 'w') as f:\n",
    "    json.dump(identity_data, f)       "
   ]
  },
  {
   "cell_type": "code",
   "execution_count": null,
   "metadata": {},
   "outputs": [],
   "source": []
  }
 ],
 "metadata": {
  "kernelspec": {
   "display_name": "Django Shell-Plus",
   "language": "python",
   "name": "django_extensions"
  },
  "language_info": {
   "codemirror_mode": {
    "name": "ipython",
    "version": 3
   },
   "file_extension": ".py",
   "mimetype": "text/x-python",
   "name": "python",
   "nbconvert_exporter": "python",
   "pygments_lexer": "ipython3",
   "version": "3.5.2"
  },
  "toc": {
   "nav_menu": {},
   "number_sections": true,
   "sideBar": false,
   "skip_h1_title": false,
   "toc_cell": true,
   "toc_position": {},
   "toc_section_display": "block",
   "toc_window_display": false
  }
 },
 "nbformat": 4,
 "nbformat_minor": 2
}
