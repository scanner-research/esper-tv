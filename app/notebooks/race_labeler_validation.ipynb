{
 "cells": [
  {
   "cell_type": "code",
   "execution_count": 8,
   "metadata": {
    "ExecuteTime": {
     "end_time": "2019-03-15T16:30:54.993766Z",
     "start_time": "2019-03-15T16:30:47.967620Z"
    }
   },
   "outputs": [
    {
     "name": "stdout",
     "output_type": "stream",
     "text": [
      "race:black:labeler=james:validation and race:black:labeler=dan:validation\n",
      "  black: 272 agreements, 23 disagreements, 11.8:1 ratio, 7.8% disagreement\n",
      "  not-black: 1795 agreements, 23 disagreements, 78.0:1 ratio, 1.3% disagreement\n",
      "\n",
      "race:black:labeler=kayvon:validation and race:black:labeler=james:validation\n",
      "  black: 1 agreements, 285 disagreements, 0.0:1 ratio, 99.7% disagreement\n",
      "  not-black: 0 agreements, 1804 disagreements, 0.0:1 ratio, 100.0% disagreement\n",
      "\n",
      "race:black:labeler=kayvon:validation and race:black:labeler=dan:validation\n",
      "  black: 1 agreements, 280 disagreements, 0.0:1 ratio, 99.6% disagreement\n",
      "  not-black: 0 agreements, 1809 disagreements, 0.0:1 ratio, 100.0% disagreement\n",
      "\n"
     ]
    }
   ],
   "source": [
    "from collections import defaultdict\n",
    "\n",
    "labeler_names = [\n",
    "    'race:black:labeler=james:validation',\n",
    "    'race:black:labeler=dan:validation',\n",
    "    'race:black:labeler=kayvon:validation',\n",
    "]\n",
    "labelers = Labeler.objects.filter(name__in=labeler_names)\n",
    "tag = Tag.objects.get(name='black')\n",
    "face_tags = FaceTag.objects.filter(\n",
    "    tag=tag, labeler__id__in=labelers\n",
    ").values('face__id', 'score', 'labeler__name')\n",
    "\n",
    "labelers_pos = defaultdict(set)\n",
    "labelers_neg = defaultdict(set)\n",
    "for f in face_tags:\n",
    "    labeler_name = f['labeler__name']\n",
    "    if f['score'] > 0.5:\n",
    "        labelers_pos[labeler_name].add(f['face__id'])\n",
    "    else:\n",
    "        labelers_neg[labeler_name].add(f['face__id'])\n",
    "        \n",
    "for l1 in labeler_names:\n",
    "    for l2 in labeler_names:\n",
    "        if l1 <= l2:\n",
    "            continue\n",
    "        print('{} and {}'.format(l1, l2))\n",
    "        n_black_agree = len(labelers_pos[l1] & labelers_pos[l2])\n",
    "        n_black_disagree = len(labelers_pos[l1] ^ labelers_pos[l2])\n",
    "        print('  black: {} agreements, {} disagreements, {:0.1f}:1 ratio, {:0.1f}% disagreement'.format(\n",
    "            n_black_agree, n_black_disagree, \n",
    "            n_black_agree / n_black_disagree,\n",
    "            n_black_disagree / (n_black_agree + n_black_disagree) * 100\n",
    "        ))\n",
    "        n_not_black_agree = len(labelers_neg[l1] & labelers_neg[l2])\n",
    "        n_not_black_disagree = len(labelers_neg[l1] ^ labelers_neg[l2])\n",
    "        print('  not-black: {} agreements, {} disagreements, {:0.1f}:1 ratio, {:0.1f}% disagreement'.format(\n",
    "            n_not_black_agree, n_not_black_disagree,\n",
    "            n_not_black_agree / n_not_black_disagree,\n",
    "            n_not_black_disagree / (n_not_black_agree + n_not_black_disagree) * 100\n",
    "        ))\n",
    "        print()"
   ]
  },
  {
   "cell_type": "code",
   "execution_count": null,
   "metadata": {},
   "outputs": [],
   "source": []
  }
 ],
 "metadata": {
  "kernelspec": {
   "display_name": "Django Shell-Plus",
   "language": "python",
   "name": "django_extensions"
  },
  "language_info": {
   "codemirror_mode": {
    "name": "ipython",
    "version": 3
   },
   "file_extension": ".py",
   "mimetype": "text/x-python",
   "name": "python",
   "nbconvert_exporter": "python",
   "pygments_lexer": "ipython3",
   "version": "3.5.2"
  },
  "toc": {
   "nav_menu": {},
   "number_sections": true,
   "sideBar": true,
   "skip_h1_title": false,
   "toc_cell": false,
   "toc_position": {},
   "toc_section_display": "block",
   "toc_window_display": false
  }
 },
 "nbformat": 4,
 "nbformat_minor": 2
}
