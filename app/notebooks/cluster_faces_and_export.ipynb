{
 "cells": [
  {
   "cell_type": "code",
   "execution_count": 29,
   "metadata": {
    "ExecuteTime": {
     "end_time": "2019-05-24T00:13:58.482787Z",
     "start_time": "2019-05-24T00:13:58.453697Z"
    }
   },
   "outputs": [],
   "source": [
    "import os\n",
    "import json\n",
    "import random\n",
    "from tqdm import tqdm\n",
    "\n",
    "import esper.face_embeddings as face_embed\n",
    "from esper.widget import *\n",
    "from esper.prelude import *\n",
    "\n",
    "OUTPUT_DIR = '/app/data/azure-face-crops/'\n",
    "\n",
    "if not os.path.exists(OUTPUT_DIR):\n",
    "    os.makedirs(OUTPUT_DIR)"
   ]
  },
  {
   "cell_type": "code",
   "execution_count": 18,
   "metadata": {
    "ExecuteTime": {
     "end_time": "2019-05-23T23:59:28.472596Z",
     "start_time": "2019-05-23T23:59:28.444881Z"
    }
   },
   "outputs": [],
   "source": [
    "VIDEO_NAMES = [\n",
    "    'CNNW_20131214_160000_CNN_Newsroom', \n",
    "    'FOXNEWSW_20161001_160000_Americas_Election_HQ',\n",
    "    'MSNBCW_20170701_060000_The_11th_Hour_With_Brian_Williams'\n",
    "]"
   ]
  },
  {
   "cell_type": "code",
   "execution_count": 19,
   "metadata": {
    "ExecuteTime": {
     "end_time": "2019-05-23T23:59:29.270127Z",
     "start_time": "2019-05-23T23:59:29.239517Z"
    }
   },
   "outputs": [],
   "source": [
    "def cluster_for_video(video_name, k=100):\n",
    "    face_ids = [\n",
    "        f['id'] for f in Face.objects.filter(\n",
    "            frame__video__path__contains=video_name).values('id')]\n",
    "    clusters = [[] for _ in range(k)]\n",
    "    for f, c in face_embed.kmeans(face_ids, k):\n",
    "        clusters[c].append(f)\n",
    "    clusters.sort(key=lambda x: -len(x))\n",
    "    return clusters"
   ]
  },
  {
   "cell_type": "code",
   "execution_count": null,
   "metadata": {
    "ExecuteTime": {
     "end_time": "2019-05-23T23:48:19.034682Z",
     "start_time": "2019-05-23T23:48:17.845679Z"
    },
    "scrolled": false
   },
   "outputs": [],
   "source": [
    "results = []\n",
    "for cluster in cluster_for_video(VIDEO_NAMES[0]):\n",
    "    results.append(qs_to_result(Face.objects.filter(id__in=cluster), limit=3))\n",
    "esper_widget(group_results(list(enumerate(results))), \n",
    "             disable_captions=True, jupyter_keybindings=True)"
   ]
  },
  {
   "cell_type": "code",
   "execution_count": 30,
   "metadata": {
    "ExecuteTime": {
     "end_time": "2019-05-24T00:14:11.587128Z",
     "start_time": "2019-05-24T00:14:11.549856Z"
    }
   },
   "outputs": [],
   "source": [
    "def crop_bbox(img, bbox, expand=0.1):\n",
    "    y1 = max(bbox.bbox_y1 - expand, 0)\n",
    "    y2 = min(bbox.bbox_y2 + expand, 1)\n",
    "    x1 = max(bbox.bbox_x1 - expand, 0)\n",
    "    x2 = min(bbox.bbox_x2 + expand, 1)\n",
    "    [h, w] = img.shape[:2]\n",
    "    return img[int(y1 * h):int(y2 * h), int(x1 * w):int(x2 * w)]\n",
    "\n",
    "\n",
    "def write_result_for_video(video_name, clusters, n_samples=5):\n",
    "    outdir = os.path.join(OUTPUT_DIR, video_name)\n",
    "    if not os.path.exists(outdir):\n",
    "        os.makedirs(outdir)\n",
    "    with open(os.path.join(outdir, 'clusters.json'), 'w') as f:\n",
    "        json.dump(clusters, f)\n",
    "    face_ids = [\n",
    "        i for c in clusters for i in random.sample(c, min(n_samples, len(c)))]\n",
    "    print('Sampling {} faces from {}'.format(len(face_ids), video_name))\n",
    "    for face in tqdm(Face.objects.filter(id__in=face_ids).select_related()):\n",
    "        img = crop_bbox(load_frame(face.frame.video, face.frame.number, []), face)\n",
    "        cv2.imwrite(os.path.join(outdir, '{}.png'.format(face.id)), img)"
   ]
  },
  {
   "cell_type": "code",
   "execution_count": 31,
   "metadata": {
    "ExecuteTime": {
     "end_time": "2019-05-24T00:38:38.296941Z",
     "start_time": "2019-05-24T00:14:13.187793Z"
    }
   },
   "outputs": [
    {
     "name": "stdout",
     "output_type": "stream",
     "text": [
      "Sampling 484 faces from CNNW_20131214_160000_CNN_Newsroom\n"
     ]
    },
    {
     "data": {
      "application/vnd.jupyter.widget-view+json": {
       "model_id": "5733f378cf84435eb6895adbe1b52db1",
       "version_major": 2,
       "version_minor": 0
      },
      "text/plain": [
       "HBox(children=(IntProgress(value=0, max=484), HTML(value='')))"
      ]
     },
     "metadata": {},
     "output_type": "display_data"
    },
    {
     "name": "stdout",
     "output_type": "stream",
     "text": [
      "\n",
      "Sampling 496 faces from FOXNEWSW_20161001_160000_Americas_Election_HQ\n"
     ]
    },
    {
     "data": {
      "application/vnd.jupyter.widget-view+json": {
       "model_id": "3df9a8c7b57e43e7a1e0025882459a1d",
       "version_major": 2,
       "version_minor": 0
      },
      "text/plain": [
       "HBox(children=(IntProgress(value=0, max=496), HTML(value='')))"
      ]
     },
     "metadata": {},
     "output_type": "display_data"
    },
    {
     "name": "stdout",
     "output_type": "stream",
     "text": [
      "\n",
      "Sampling 475 faces from MSNBCW_20170701_060000_The_11th_Hour_With_Brian_Williams\n"
     ]
    },
    {
     "data": {
      "application/vnd.jupyter.widget-view+json": {
       "model_id": "556ec383956541deb6c50f6530af7cca",
       "version_major": 2,
       "version_minor": 0
      },
      "text/plain": [
       "HBox(children=(IntProgress(value=0, max=475), HTML(value='')))"
      ]
     },
     "metadata": {},
     "output_type": "display_data"
    },
    {
     "name": "stdout",
     "output_type": "stream",
     "text": [
      "\n"
     ]
    }
   ],
   "source": [
    "for video_name in VIDEO_NAMES:\n",
    "    write_result_for_video(video_name, cluster_for_video(video_name))"
   ]
  },
  {
   "cell_type": "code",
   "execution_count": null,
   "metadata": {},
   "outputs": [],
   "source": []
  }
 ],
 "metadata": {
  "kernelspec": {
   "display_name": "Django Shell-Plus",
   "language": "python",
   "name": "django_extensions"
  },
  "language_info": {
   "codemirror_mode": {
    "name": "ipython",
    "version": 3
   },
   "file_extension": ".py",
   "mimetype": "text/x-python",
   "name": "python",
   "nbconvert_exporter": "python",
   "pygments_lexer": "ipython3",
   "version": "3.5.2"
  },
  "toc": {
   "nav_menu": {},
   "number_sections": true,
   "sideBar": true,
   "skip_h1_title": false,
   "toc_cell": false,
   "toc_position": {},
   "toc_section_display": "block",
   "toc_window_display": false
  }
 },
 "nbformat": 4,
 "nbformat_minor": 2
}
