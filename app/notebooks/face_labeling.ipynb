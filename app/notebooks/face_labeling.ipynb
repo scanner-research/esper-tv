{
 "cells": [
  {
   "cell_type": "code",
   "execution_count": 1,
   "metadata": {
    "ExecuteTime": {
     "end_time": "2019-04-12T09:07:29.408840Z",
     "start_time": "2019-04-12T09:07:23.336762Z"
    },
    "deletable": false,
    "editable": false,
    "hide_input": true,
    "init_cell": true
   },
   "outputs": [
    {
     "name": "stdout",
     "output_type": "stream",
     "text": [
      "Loading libraries... Please wait.\n",
      "Done!\n"
     ]
    },
    {
     "data": {
      "application/vnd.jupyter.widget-view+json": {
       "model_id": "030d39055d5e41539a23fd831fe83969",
       "version_major": 2,
       "version_minor": 0
      },
      "text/plain": [
       "IntSlider(value=200, continuous_update=False, description='Faces per widget page:', max=250, min=25, step=25, …"
      ]
     },
     "metadata": {},
     "output_type": "display_data"
    }
   ],
   "source": [
    "%matplotlib inline\n",
    "\n",
    "print('Loading libraries... Please wait.')\n",
    "\n",
    "from IPython.display import display, clear_output\n",
    "import ipywidgets as widgets\n",
    "import json\n",
    "import random\n",
    "import sys\n",
    "import numpy as np\n",
    "from collections import Counter\n",
    "from sklearn.metrics import confusion_matrix, accuracy_score\n",
    "from tqdm import tqdm\n",
    "\n",
    "from esper.prelude import *\n",
    "from esper.widget import *\n",
    "import esper.face_embeddings as face_embeddings\n",
    "\n",
    "\n",
    "WIDGET_STYLE_ARGS = {'description_width': 'initial'}\n",
    "\n",
    "\n",
    "def query_faces(ids):\n",
    "    faces = Face.objects.filter(id__in=ids)\n",
    "    return faces.values(\n",
    "        'id', 'bbox_y1', 'bbox_y2', 'bbox_x1', 'bbox_x2',\n",
    "        'frame__number', 'frame__video__id', 'frame__video__fps',\n",
    "        'shot__min_frame', 'shot__max_frame')\n",
    "\n",
    "\n",
    "def query_sample(qs, n):\n",
    "    return qs.order_by('?')[:n]\n",
    "\n",
    "\n",
    "def query_faces_result(faces, expand_bbox=0.05):\n",
    "    \"\"\"Replaces qs_to_result\"\"\"\n",
    "    result = []\n",
    "    for face in faces:\n",
    "        if (face.get('shot__min_frame') is not None and\n",
    "                face.get('shot__max_frame') is not None):\n",
    "            min_frame = int(\n",
    "                (face['shot__min_frame'] +\n",
    "                 face['shot__max_frame']) / 2)\n",
    "        else:\n",
    "            min_frame = face['frame__number']\n",
    "        face_result = {\n",
    "            'type': 'flat', 'label': '',\n",
    "            'elements': [{\n",
    "                'objects': [{\n",
    "                    'id': face['id'],\n",
    "                    'background': False,\n",
    "                    'type': 'bbox',\n",
    "                    'bbox_y1': max(face['bbox_y1'] - expand_bbox, 0),\n",
    "                    'bbox_y2': min(face['bbox_y2'] + expand_bbox, 1),\n",
    "                    'bbox_x1': max(face['bbox_x1'] - expand_bbox, 0),\n",
    "                    'bbox_x2': min(face['bbox_x2'] + expand_bbox, 1),\n",
    "                }],\n",
    "                'min_frame': min_frame,\n",
    "                'video': face['frame__video__id']\n",
    "            }]\n",
    "        }\n",
    "        result.append(face_result)\n",
    "    return {'type': 'Face', 'count': 0, 'result': result}\n",
    "\n",
    "\n",
    "def print_labeling_status():\n",
    "    print('Current hand labels:')\n",
    "    counts = Counter(HAND_LABELS.values())\n",
    "    if len(counts) > 0:\n",
    "        for k in counts:\n",
    "            print('  {}: {}'.format(\n",
    "                  'positive' if k == 1 else 'negative', counts[k]))\n",
    "    else:\n",
    "        print('  no hand labels...')\n",
    "\n",
    "\n",
    "def compute_distance_to_positive_labels(ids):\n",
    "    ids = list(ids)\n",
    "    pos_ids = [a for a, b in HAND_LABELS.items() if np.isclose(b, 1)]\n",
    "    pos_ids = [a for a, b in zip(pos_ids, face_embeddings.exists(pos_ids)) if b]\n",
    "    if len(pos_ids) == 0:\n",
    "        print('No positive labels to order by yet...', file=sys.stderr)\n",
    "        dists = [0] * len(ids)\n",
    "    else:\n",
    "        dists = face_embeddings.dist(ids, target_ids=pos_ids)\n",
    "    return {\n",
    "        a: b for a, b in zip(\n",
    "            ids, dists\n",
    "        )\n",
    "    }\n",
    "        \n",
    "\n",
    "def label_faces(n=None, sampler=None, order_by=None):\n",
    "    if n is None:\n",
    "        n = faces_per_page()\n",
    "    print('Loading {} faces'.format(n))\n",
    "    \n",
    "    # Simple random sample across the entire dataset\n",
    "    face_ids = sampler(n) if sampler else simple_random_sampler(n)\n",
    "    if len(face_ids) == 0:\n",
    "        print('Sampler returned no faces.')\n",
    "    \n",
    "    faces = list(query_faces(face_ids))\n",
    "    del face_ids\n",
    "    \n",
    "    faces = order_by(faces) if order_by else random_order(faces)\n",
    "        \n",
    "    selection_widget = esper_widget(\n",
    "        query_faces_result(faces),\n",
    "        disable_playback=True, jupyter_keybindings=True, disable_captions=True,\n",
    "        crop_bboxes=True, results_per_page=faces_per_page(),\n",
    "        show_inline_metadata=False)\n",
    "\n",
    "    submit_button = widgets.Button(\n",
    "        layout=widgets.Layout(width='auto'),\n",
    "        style=WIDGET_STYLE_ARGS,\n",
    "        description='Save labels',\n",
    "        disabled=False,\n",
    "        button_style='danger'\n",
    "    )\n",
    "    def on_submit(b):\n",
    "        yes_ids = [faces[i]['id'] for i in selection_widget.selected]\n",
    "        no_ids = [faces[i]['id'] for i in selection_widget.ignored]\n",
    "        clear_output()\n",
    "        for i in yes_ids:\n",
    "            HAND_LABELS[i] = 1\n",
    "        for i in no_ids:\n",
    "            HAND_LABELS[i] = 0\n",
    "        \n",
    "        print('Added {} positive and {} negative labels.'.format(\n",
    "              len(yes_ids), len(no_ids)))\n",
    "        print_labeling_status()\n",
    "        label_faces(n, sampler, order_by)\n",
    "    submit_button.on_click(on_submit)\n",
    "\n",
    "    refresh_button = widgets.Button(\n",
    "        layout=widgets.Layout(width='auto'),\n",
    "        style=WIDGET_STYLE_ARGS,\n",
    "        description='Refresh (w/o saving)',\n",
    "        disabled=False,\n",
    "        button_style=''\n",
    "    )\n",
    "    def on_refresh(b):\n",
    "        clear_output()\n",
    "        label_faces(n, sampler, order_by)\n",
    "    refresh_button.on_click(on_refresh)\n",
    "\n",
    "    dismiss_button = widgets.Button(\n",
    "        layout=widgets.Layout(width='auto'),\n",
    "        style=WIDGET_STYLE_ARGS,\n",
    "        description='Dismiss widget (w/o saving)',\n",
    "        disabled=False,\n",
    "        button_style=''\n",
    "    )\n",
    "    def on_dismiss(b):\n",
    "        clear_output()\n",
    "        print('Dismissed widget. Re-run cell to get it back.')\n",
    "    dismiss_button.on_click(on_dismiss)\n",
    "\n",
    "    display(widgets.HBox([submit_button, refresh_button, dismiss_button]))\n",
    "    display(selection_widget)\n",
    "\n",
    "\n",
    "DEFAULT_FACES_PER_PAGE = 200\n",
    "_faces_per_page_slider = widgets.IntSlider(\n",
    "    value=DEFAULT_FACES_PER_PAGE,\n",
    "    style=WIDGET_STYLE_ARGS,\n",
    "    min=25,\n",
    "    max=250,\n",
    "    step=25,\n",
    "    description='Faces per widget page:',\n",
    "    disabled=False,\n",
    "    continuous_update=False,\n",
    "    orientation='horizontal',\n",
    "    readout=True,\n",
    "    readout_format='d'\n",
    ")\n",
    "def faces_per_page():\n",
    "    try:\n",
    "        return _faces_per_page_slider.value\n",
    "    except:\n",
    "        return DEFAULT_FACES_PER_PAGE\n",
    "\n",
    "print('Done!')\n",
    "\n",
    "display(_faces_per_page_slider)"
   ]
  },
  {
   "cell_type": "code",
   "execution_count": 2,
   "metadata": {
    "ExecuteTime": {
     "end_time": "2019-04-12T09:07:29.435263Z",
     "start_time": "2019-04-12T09:07:29.412442Z"
    },
    "deletable": false,
    "editable": false,
    "init_cell": true
   },
   "outputs": [],
   "source": [
    "try: HAND_LABELS\n",
    "except NameError: HAND_LABELS = {}"
   ]
  },
  {
   "cell_type": "markdown",
   "metadata": {},
   "source": [
    "# Get existing hand labels"
   ]
  },
  {
   "cell_type": "markdown",
   "metadata": {},
   "source": [
    "The HAND_LABELS variable stores all current labels in a dictionary of {face_id: 0 or 1 score}.\n",
    "You can load existing hand handlabels from a json file on disk or from FaceTags in the database."
   ]
  },
  {
   "cell_type": "code",
   "execution_count": 3,
   "metadata": {
    "ExecuteTime": {
     "end_time": "2019-04-12T09:07:29.469668Z",
     "start_time": "2019-04-12T09:07:29.438266Z"
    },
    "deletable": false,
    "editable": false,
    "init_cell": true
   },
   "outputs": [],
   "source": [
    "def load_hand_labels_json(filename):\n",
    "    \"\"\"Load handlabels from a file\"\"\"\n",
    "    with open(filename) as f:\n",
    "        return {int(k): v for k, v in json.load(f).items()}\n",
    "\n",
    "def load_hand_labels_database(labeler_name, tag_name):\n",
    "    \"\"\"Load handlabels from the database\"\"\"\n",
    "    labeler = Labeler.objects.get(name=labeler_name)\n",
    "    tag = Tag.objects.get(name=tag_name)\n",
    "    labels = {}\n",
    "    for f in FaceTag.objects.filter(\n",
    "        labeler=labeler, tag=tag\n",
    "    ).values('face__id', 'score'):\n",
    "        labels[f['face__id']] = f['score']\n",
    "    return labels"
   ]
  },
  {
   "cell_type": "markdown",
   "metadata": {},
   "source": [
    "Run the cell below to load existing progress."
   ]
  },
  {
   "cell_type": "code",
   "execution_count": null,
   "metadata": {
    "ExecuteTime": {
     "end_time": "2019-03-14T18:32:31.276454Z",
     "start_time": "2019-03-14T18:32:31.247890Z"
    }
   },
   "outputs": [],
   "source": [
    "# HAND_LABELS = load_hand_labels_json('/app/data/black.1k.random.json')"
   ]
  },
  {
   "cell_type": "code",
   "execution_count": null,
   "metadata": {
    "ExecuteTime": {
     "end_time": "2019-03-14T18:32:37.491353Z",
     "start_time": "2019-03-14T18:32:37.462169Z"
    },
    "scrolled": true
   },
   "outputs": [],
   "source": [
    "# LABELER_NAME = 'race:black:labeler=james'\n",
    "# TAG_NAME = 'black'\n",
    "# HAND_LABELS = load_hand_labels_database(LABELER_NAME, TAG_NAME)"
   ]
  },
  {
   "cell_type": "markdown",
   "metadata": {},
   "source": [
    "# Sampling policy"
   ]
  },
  {
   "cell_type": "markdown",
   "metadata": {},
   "source": [
    "This defines which faces are to be presented to the user. A sampling call back (one of the functions below) can be passed to the labeling workflow."
   ]
  },
  {
   "cell_type": "code",
   "execution_count": 4,
   "metadata": {
    "ExecuteTime": {
     "end_time": "2019-04-12T09:07:29.515717Z",
     "start_time": "2019-04-12T09:07:29.473788Z"
    },
    "deletable": false,
    "editable": false,
    "init_cell": true
   },
   "outputs": [
    {
     "name": "stdout",
     "output_type": "stream",
     "text": [
      "Loaded default samplers\n"
     ]
    }
   ],
   "source": [
    "def simple_random_sampler(n):\n",
    "    \"\"\"Sample faces truly at random\"\"\"\n",
    "    return face_embeddings.sample(n)\n",
    "\n",
    "\n",
    "def build_nn_sampler(seed_ids, k=10, stride=25):\n",
    "    \"\"\"Build function to sample faces that are 'close' to the seed ids\"\"\"\n",
    "    def _nn_sampler(n):\n",
    "        sample_ids = random.sample(seed_ids, min(k, len(seed_ids)))\n",
    "        mean_emb = face_embeddings.mean(sample_ids)\n",
    "        return [i for i, d in \n",
    "                face_embeddings.knn(targets=[mean_emb], k=n, sample=stride)]\n",
    "    return _nn_sampler\n",
    "\n",
    "\n",
    "def build_prev_labeled_sampler(other_labeler_names, tag_name):\n",
    "    \"\"\"Build function to sample faces labeled by other labelers\"\"\"\n",
    "    labeler_ids = [l.id for l in \n",
    "                   Labeler.objects.filter(name__in=other_labeler_names)]\n",
    "    assert len(labeler_ids) == len(other_labeler_names), 'Not all labelers are valid!'\n",
    "    tag = Tag.objects.get(name=tag_name)\n",
    "    def _prev_labeled_sampler(n):\n",
    "        exclude_ids = [face_id for face_id in HAND_LABELS]\n",
    "        sample_ids = [\n",
    "            f['face__id'] for f in FaceTag.objects.filter(\n",
    "                labeler__id__in=labeler_ids, tag=tag\n",
    "            ).exclude(face__id__in=exclude_ids)[:n].values('face__id')\n",
    "        ]\n",
    "        return sample_ids\n",
    "    return _prev_labeled_sampler\n",
    "\n",
    "print('Loaded default samplers')"
   ]
  },
  {
   "cell_type": "markdown",
   "metadata": {},
   "source": [
    "# Ordering policy"
   ]
  },
  {
   "cell_type": "markdown",
   "metadata": {},
   "source": [
    "The ordering function defines the order in which faces are presented in the labeling widget. The following cell implements various ordering callbacks that can be used."
   ]
  },
  {
   "cell_type": "code",
   "execution_count": 5,
   "metadata": {
    "ExecuteTime": {
     "end_time": "2019-04-12T09:07:29.556476Z",
     "start_time": "2019-04-12T09:07:29.518475Z"
    },
    "deletable": false,
    "editable": false,
    "init_cell": true
   },
   "outputs": [
    {
     "name": "stdout",
     "output_type": "stream",
     "text": [
      "Loaded default order by functions\n"
     ]
    }
   ],
   "source": [
    "def random_order(faces):\n",
    "    \"\"\"Sorts faces in random order\"\"\"\n",
    "    random.shuffle(faces)\n",
    "    return faces\n",
    "\n",
    "\n",
    "def likely_positives_first(faces):\n",
    "    \"\"\"Sorts faces in order of closest to your labeled positives\"\"\"\n",
    "    face_dists = compute_distance_to_positive_labels(\n",
    "        [f['id'] for f in faces])\n",
    "    faces.sort(key=lambda x: face_dists.get(x['id'], 0))\n",
    "    return faces\n",
    "\n",
    "\n",
    "def build_other_labeler_order_func(other_labeler_names, tag_name):\n",
    "    \"\"\"Return function to sort faces by labels produced by other labelers\"\"\"\n",
    "    labeler_ids = [l.id for l in \n",
    "                   Labeler.objects.filter(name__in=other_labeler_names)]\n",
    "    assert len(labeler_ids) == len(other_labeler_names), 'Not all labelers are valid!'\n",
    "    tag = Tag.objects.get(name=tag_name)\n",
    "    def _other_labeler_order(faces):\n",
    "        face_ids = [f['id'] for f in faces]\n",
    "        face_scores = Counter()\n",
    "        for ft in FaceTag.objects.filter(\n",
    "            face__id__in=face_ids, labeler__id__in=labeler_ids, tag=tag\n",
    "        ).values('face__id', 'score'):\n",
    "            face_scores[ft['face__id']] += ft['score']\n",
    "        faces.sort(key=lambda x: -face_scores[x['id']])\n",
    "        return faces\n",
    "    return _other_labeler_order\n",
    "\n",
    "print('Loaded default order by functions')"
   ]
  },
  {
   "cell_type": "markdown",
   "metadata": {},
   "source": [
    "# Labeling\n",
    "\n",
    "`label_faces()` will sample faces from the dataset.\n",
    "\n",
    "<b>Keys:</b>\n",
    " - To label a <b>yes</b> face, press '['. To label all faces on a page, press '{' (i.e., shift + '[').\n",
    " - To label a <b>no</b> face, press ']'. To label all faces on a page, press '}' (i.e., shift + ']').\n",
    " - To expand an image, press '=', and press again to shrink it.\n",
    " - To label ALL previously unlabeled faces up to and including the current face as <b>yes</b>, press '?' (i.e., shift + '/').\n",
    " - Do not highlight if unsure.\n",
    "\n",
    "Once you are satisfied with your selections, press <b>save labels</b> to add the labels to HAND_LABELS. Re-run this cell as needed.\n",
    "\n",
    "Note: the bounding boxes have been expanded by 5%.\n",
    "\n",
    "## Label randomly sampled faces. (Below)"
   ]
  },
  {
   "cell_type": "code",
   "execution_count": 15,
   "metadata": {
    "ExecuteTime": {
     "end_time": "2019-03-14T20:47:52.292955Z",
     "start_time": "2019-03-14T20:47:51.296334Z"
    },
    "scrolled": false
   },
   "outputs": [
    {
     "name": "stdout",
     "output_type": "stream",
     "text": [
      "Dismissed widget. Re-run cell to get it back.\n"
     ]
    }
   ],
   "source": [
    "label_faces(\n",
    "    sampler=simple_random_sampler,\n",
    "    order_by=likely_positives_first\n",
    ")"
   ]
  },
  {
   "cell_type": "markdown",
   "metadata": {},
   "source": [
    "## Label faces already labeled by other labelers. (Below)"
   ]
  },
  {
   "cell_type": "code",
   "execution_count": 14,
   "metadata": {
    "ExecuteTime": {
     "end_time": "2019-03-14T20:46:00.770026Z",
     "start_time": "2019-03-14T20:45:56.403187Z"
    },
    "scrolled": false
   },
   "outputs": [
    {
     "name": "stdout",
     "output_type": "stream",
     "text": [
      "Dismissed widget. Re-run cell to get it back.\n"
     ]
    }
   ],
   "source": [
    "LABELER_NAMES = ['race:black:labeler=james']\n",
    "TAG_NAME = 'black'\n",
    "label_faces(\n",
    "    sampler=build_prev_labeled_sampler(\n",
    "        LABELER_NAMES, TAG_NAME),\n",
    "    order_by=build_other_labeler_order_func(\n",
    "        LABELER_NAMES, TAG_NAME)\n",
    ")"
   ]
  },
  {
   "cell_type": "markdown",
   "metadata": {},
   "source": [
    "# Show labeled counts"
   ]
  },
  {
   "cell_type": "code",
   "execution_count": 13,
   "metadata": {
    "ExecuteTime": {
     "end_time": "2019-03-14T20:45:26.936817Z",
     "start_time": "2019-03-14T20:45:26.892921Z"
    }
   },
   "outputs": [
    {
     "name": "stdout",
     "output_type": "stream",
     "text": [
      "Current hand labels:\n",
      "  no hand labels...\n"
     ]
    }
   ],
   "source": [
    "print_labeling_status()"
   ]
  },
  {
   "cell_type": "markdown",
   "metadata": {},
   "source": [
    "# Saving hand labels"
   ]
  },
  {
   "cell_type": "code",
   "execution_count": 6,
   "metadata": {
    "ExecuteTime": {
     "end_time": "2019-04-12T09:07:29.596301Z",
     "start_time": "2019-04-12T09:07:29.558941Z"
    },
    "deletable": false,
    "editable": false,
    "init_cell": true
   },
   "outputs": [],
   "source": [
    "def save_hand_labels_json(filename, overwrite=False):\n",
    "    \"\"\"Save the handlabels to a local file\"\"\"\n",
    "    if not overwrite and os.path.exists(filename):\n",
    "        raise Exception('File already exists!')\n",
    "    with open(filename, 'w') as f:\n",
    "        json.dump(HAND_LABELS, f)\n",
    "    print('Saved:', filename)\n",
    "    \n",
    "def save_hand_labels_database(labeler_name, tag_name):\n",
    "    \"\"\"Save the handlabels to the Esper database\"\"\"\n",
    "    labeler, created = Labeler.objects.get_or_create(name=labeler_name)\n",
    "    print('Created labeler:' if created else 'Using labeler:', labeler.name)\n",
    "    tag, created = Tag.objects.get_or_create(name=tag_name)\n",
    "    print('Created tag:' if created else 'Using tag:', tag.name)\n",
    "    new_count = 0\n",
    "    update_count = 0\n",
    "    for a, b in tqdm(HAND_LABELS.items(), desc='Saving labels'):\n",
    "        face_tag, created = FaceTag.objects.get_or_create(\n",
    "            face__id=a, labeler=labeler, tag=tag,\n",
    "            defaults={'face_id': a, 'score': b}\n",
    "        )\n",
    "        if not created:\n",
    "            old_score = face_tag.score\n",
    "            face_tag.score = b\n",
    "            face_tag.save()\n",
    "            update_count += 1\n",
    "        else:\n",
    "            new_count += 1\n",
    "    print('Saved {} new hand labels (and updated {} existing labels)'.format(\n",
    "          new_count, update_count))"
   ]
  },
  {
   "cell_type": "markdown",
   "metadata": {},
   "source": [
    "Run the cell below to save labels."
   ]
  },
  {
   "cell_type": "code",
   "execution_count": null,
   "metadata": {
    "ExecuteTime": {
     "end_time": "2019-03-10T02:06:14.295440Z",
     "start_time": "2019-03-10T02:06:14.264480Z"
    }
   },
   "outputs": [],
   "source": [
    "# save_hand_labels_json('/app/data/black.1k.random.json')"
   ]
  },
  {
   "cell_type": "code",
   "execution_count": null,
   "metadata": {},
   "outputs": [],
   "source": [
    "# LABELER_NAME = 'race:black:labeler=james'\n",
    "# TAG_NAME = 'black'\n",
    "# save_hand_labels_database(LABELER_NAME, TAG_NAME)"
   ]
  },
  {
   "cell_type": "code",
   "execution_count": null,
   "metadata": {},
   "outputs": [],
   "source": []
  }
 ],
 "metadata": {
  "celltoolbar": "Initialization Cell",
  "kernelspec": {
   "display_name": "Django Shell-Plus",
   "language": "python",
   "name": "django_extensions"
  },
  "language_info": {
   "codemirror_mode": {
    "name": "ipython",
    "version": 3
   },
   "file_extension": ".py",
   "mimetype": "text/x-python",
   "name": "python",
   "nbconvert_exporter": "python",
   "pygments_lexer": "ipython3",
   "version": "3.5.2"
  },
  "toc": {
   "nav_menu": {},
   "number_sections": true,
   "sideBar": true,
   "skip_h1_title": false,
   "toc_cell": false,
   "toc_position": {},
   "toc_section_display": "block",
   "toc_window_display": false
  }
 },
 "nbformat": 4,
 "nbformat_minor": 2
}
